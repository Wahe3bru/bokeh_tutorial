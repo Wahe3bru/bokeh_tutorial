{
 "cells": [
  {
   "cell_type": "markdown",
   "metadata": {},
   "source": [
    "# Introduction to bokeh\n",
    "\n",
    "## Picture this, your first basic graph\n",
    "---\n",
    "\n",
    "<img src='./images/logos.3.600.wide.png' height='250' width='300' style=\"float:right\">"
   ]
  },
  {
   "cell_type": "markdown",
   "metadata": {},
   "source": [
    "# Creating a basic graph\n",
    "---"
   ]
  },
  {
   "cell_type": "code",
   "execution_count": 29,
   "metadata": {},
   "outputs": [
    {
     "data": {
      "text/html": [
       "\n",
       "    <div class=\"bk-root\">\n",
       "        <a href=\"http://bokeh.pydata.org\" target=\"_blank\" class=\"bk-logo bk-logo-small bk-logo-notebook\"></a>\n",
       "        <span id=\"8359c70d-2457-44c3-b7c8-4bac7e0550e3\">Loading BokehJS ...</span>\n",
       "    </div>"
      ]
     },
     "metadata": {},
     "output_type": "display_data"
    },
    {
     "data": {
      "application/javascript": [
       "\n",
       "(function(global) {\n",
       "  function now() {\n",
       "    return new Date();\n",
       "  }\n",
       "\n",
       "  var force = true;\n",
       "\n",
       "  if (typeof (window._bokeh_onload_callbacks) === \"undefined\" || force === true) {\n",
       "    window._bokeh_onload_callbacks = [];\n",
       "    window._bokeh_is_loading = undefined;\n",
       "  }\n",
       "\n",
       "\n",
       "  \n",
       "  if (typeof (window._bokeh_timeout) === \"undefined\" || force === true) {\n",
       "    window._bokeh_timeout = Date.now() + 5000;\n",
       "    window._bokeh_failed_load = false;\n",
       "  }\n",
       "\n",
       "  var NB_LOAD_WARNING = {'data': {'text/html':\n",
       "     \"<div style='background-color: #fdd'>\\n\"+\n",
       "     \"<p>\\n\"+\n",
       "     \"BokehJS does not appear to have successfully loaded. If loading BokehJS from CDN, this \\n\"+\n",
       "     \"may be due to a slow or bad network connection. Possible fixes:\\n\"+\n",
       "     \"</p>\\n\"+\n",
       "     \"<ul>\\n\"+\n",
       "     \"<li>re-rerun `output_notebook()` to attempt to load from CDN again, or</li>\\n\"+\n",
       "     \"<li>use INLINE resources instead, as so:</li>\\n\"+\n",
       "     \"</ul>\\n\"+\n",
       "     \"<code>\\n\"+\n",
       "     \"from bokeh.resources import INLINE\\n\"+\n",
       "     \"output_notebook(resources=INLINE)\\n\"+\n",
       "     \"</code>\\n\"+\n",
       "     \"</div>\"}};\n",
       "\n",
       "  function display_loaded() {\n",
       "    if (window.Bokeh !== undefined) {\n",
       "      var el = document.getElementById(\"8359c70d-2457-44c3-b7c8-4bac7e0550e3\");\n",
       "      el.textContent = \"BokehJS \" + Bokeh.version + \" successfully loaded.\";\n",
       "    } else if (Date.now() < window._bokeh_timeout) {\n",
       "      setTimeout(display_loaded, 100)\n",
       "    }\n",
       "  }\n",
       "\n",
       "  function run_callbacks() {\n",
       "    window._bokeh_onload_callbacks.forEach(function(callback) { callback() });\n",
       "    delete window._bokeh_onload_callbacks\n",
       "    console.info(\"Bokeh: all callbacks have finished\");\n",
       "  }\n",
       "\n",
       "  function load_libs(js_urls, callback) {\n",
       "    window._bokeh_onload_callbacks.push(callback);\n",
       "    if (window._bokeh_is_loading > 0) {\n",
       "      console.log(\"Bokeh: BokehJS is being loaded, scheduling callback at\", now());\n",
       "      return null;\n",
       "    }\n",
       "    if (js_urls == null || js_urls.length === 0) {\n",
       "      run_callbacks();\n",
       "      return null;\n",
       "    }\n",
       "    console.log(\"Bokeh: BokehJS not loaded, scheduling load and callback at\", now());\n",
       "    window._bokeh_is_loading = js_urls.length;\n",
       "    for (var i = 0; i < js_urls.length; i++) {\n",
       "      var url = js_urls[i];\n",
       "      var s = document.createElement('script');\n",
       "      s.src = url;\n",
       "      s.async = false;\n",
       "      s.onreadystatechange = s.onload = function() {\n",
       "        window._bokeh_is_loading--;\n",
       "        if (window._bokeh_is_loading === 0) {\n",
       "          console.log(\"Bokeh: all BokehJS libraries loaded\");\n",
       "          run_callbacks()\n",
       "        }\n",
       "      };\n",
       "      s.onerror = function() {\n",
       "        console.warn(\"failed to load library \" + url);\n",
       "      };\n",
       "      console.log(\"Bokeh: injecting script tag for BokehJS library: \", url);\n",
       "      document.getElementsByTagName(\"head\")[0].appendChild(s);\n",
       "    }\n",
       "  };var element = document.getElementById(\"8359c70d-2457-44c3-b7c8-4bac7e0550e3\");\n",
       "  if (element == null) {\n",
       "    console.log(\"Bokeh: ERROR: autoload.js configured with elementid '8359c70d-2457-44c3-b7c8-4bac7e0550e3' but no matching script tag was found. \")\n",
       "    return false;\n",
       "  }\n",
       "\n",
       "  var js_urls = [\"https://cdn.pydata.org/bokeh/release/bokeh-0.12.5.min.js\", \"https://cdn.pydata.org/bokeh/release/bokeh-widgets-0.12.5.min.js\"];\n",
       "\n",
       "  var inline_js = [\n",
       "    function(Bokeh) {\n",
       "      Bokeh.set_log_level(\"info\");\n",
       "    },\n",
       "    \n",
       "    function(Bokeh) {\n",
       "      \n",
       "    },\n",
       "    \n",
       "    function(Bokeh) {\n",
       "      \n",
       "      document.getElementById(\"8359c70d-2457-44c3-b7c8-4bac7e0550e3\").textContent = \"BokehJS is loading...\";\n",
       "    },\n",
       "    function(Bokeh) {\n",
       "      console.log(\"Bokeh: injecting CSS: https://cdn.pydata.org/bokeh/release/bokeh-0.12.5.min.css\");\n",
       "      Bokeh.embed.inject_css(\"https://cdn.pydata.org/bokeh/release/bokeh-0.12.5.min.css\");\n",
       "      console.log(\"Bokeh: injecting CSS: https://cdn.pydata.org/bokeh/release/bokeh-widgets-0.12.5.min.css\");\n",
       "      Bokeh.embed.inject_css(\"https://cdn.pydata.org/bokeh/release/bokeh-widgets-0.12.5.min.css\");\n",
       "    }\n",
       "  ];\n",
       "\n",
       "  function run_inline_js() {\n",
       "    \n",
       "    if ((window.Bokeh !== undefined) || (force === true)) {\n",
       "      for (var i = 0; i < inline_js.length; i++) {\n",
       "        inline_js[i](window.Bokeh);\n",
       "      }if (force === true) {\n",
       "        display_loaded();\n",
       "      }} else if (Date.now() < window._bokeh_timeout) {\n",
       "      setTimeout(run_inline_js, 100);\n",
       "    } else if (!window._bokeh_failed_load) {\n",
       "      console.log(\"Bokeh: BokehJS failed to load within specified timeout.\");\n",
       "      window._bokeh_failed_load = true;\n",
       "    } else if (force !== true) {\n",
       "      var cell = $(document.getElementById(\"8359c70d-2457-44c3-b7c8-4bac7e0550e3\")).parents('.cell').data().cell;\n",
       "      cell.output_area.append_execute_result(NB_LOAD_WARNING)\n",
       "    }\n",
       "\n",
       "  }\n",
       "\n",
       "  if (window._bokeh_is_loading === 0) {\n",
       "    console.log(\"Bokeh: BokehJS loaded, going straight to plotting\");\n",
       "    run_inline_js();\n",
       "  } else {\n",
       "    load_libs(js_urls, function() {\n",
       "      console.log(\"Bokeh: BokehJS plotting callback run at\", now());\n",
       "      run_inline_js();\n",
       "    });\n",
       "  }\n",
       "}(this));"
      ]
     },
     "metadata": {},
     "output_type": "display_data"
    },
    {
     "data": {
      "text/html": [
       "\n",
       "\n",
       "    <div class=\"bk-root\">\n",
       "        <div class=\"bk-plotdiv\" id=\"b6505abb-9681-4587-b0f8-eee6d465b59b\"></div>\n",
       "    </div>\n",
       "<script type=\"text/javascript\">\n",
       "  \n",
       "  (function(global) {\n",
       "    function now() {\n",
       "      return new Date();\n",
       "    }\n",
       "  \n",
       "    var force = false;\n",
       "  \n",
       "    if (typeof (window._bokeh_onload_callbacks) === \"undefined\" || force === true) {\n",
       "      window._bokeh_onload_callbacks = [];\n",
       "      window._bokeh_is_loading = undefined;\n",
       "    }\n",
       "  \n",
       "  \n",
       "    \n",
       "    if (typeof (window._bokeh_timeout) === \"undefined\" || force === true) {\n",
       "      window._bokeh_timeout = Date.now() + 0;\n",
       "      window._bokeh_failed_load = false;\n",
       "    }\n",
       "  \n",
       "    var NB_LOAD_WARNING = {'data': {'text/html':\n",
       "       \"<div style='background-color: #fdd'>\\n\"+\n",
       "       \"<p>\\n\"+\n",
       "       \"BokehJS does not appear to have successfully loaded. If loading BokehJS from CDN, this \\n\"+\n",
       "       \"may be due to a slow or bad network connection. Possible fixes:\\n\"+\n",
       "       \"</p>\\n\"+\n",
       "       \"<ul>\\n\"+\n",
       "       \"<li>re-rerun `output_notebook()` to attempt to load from CDN again, or</li>\\n\"+\n",
       "       \"<li>use INLINE resources instead, as so:</li>\\n\"+\n",
       "       \"</ul>\\n\"+\n",
       "       \"<code>\\n\"+\n",
       "       \"from bokeh.resources import INLINE\\n\"+\n",
       "       \"output_notebook(resources=INLINE)\\n\"+\n",
       "       \"</code>\\n\"+\n",
       "       \"</div>\"}};\n",
       "  \n",
       "    function display_loaded() {\n",
       "      if (window.Bokeh !== undefined) {\n",
       "        var el = document.getElementById(\"b6505abb-9681-4587-b0f8-eee6d465b59b\");\n",
       "        el.textContent = \"BokehJS \" + Bokeh.version + \" successfully loaded.\";\n",
       "      } else if (Date.now() < window._bokeh_timeout) {\n",
       "        setTimeout(display_loaded, 100)\n",
       "      }\n",
       "    }\n",
       "  \n",
       "    function run_callbacks() {\n",
       "      window._bokeh_onload_callbacks.forEach(function(callback) { callback() });\n",
       "      delete window._bokeh_onload_callbacks\n",
       "      console.info(\"Bokeh: all callbacks have finished\");\n",
       "    }\n",
       "  \n",
       "    function load_libs(js_urls, callback) {\n",
       "      window._bokeh_onload_callbacks.push(callback);\n",
       "      if (window._bokeh_is_loading > 0) {\n",
       "        console.log(\"Bokeh: BokehJS is being loaded, scheduling callback at\", now());\n",
       "        return null;\n",
       "      }\n",
       "      if (js_urls == null || js_urls.length === 0) {\n",
       "        run_callbacks();\n",
       "        return null;\n",
       "      }\n",
       "      console.log(\"Bokeh: BokehJS not loaded, scheduling load and callback at\", now());\n",
       "      window._bokeh_is_loading = js_urls.length;\n",
       "      for (var i = 0; i < js_urls.length; i++) {\n",
       "        var url = js_urls[i];\n",
       "        var s = document.createElement('script');\n",
       "        s.src = url;\n",
       "        s.async = false;\n",
       "        s.onreadystatechange = s.onload = function() {\n",
       "          window._bokeh_is_loading--;\n",
       "          if (window._bokeh_is_loading === 0) {\n",
       "            console.log(\"Bokeh: all BokehJS libraries loaded\");\n",
       "            run_callbacks()\n",
       "          }\n",
       "        };\n",
       "        s.onerror = function() {\n",
       "          console.warn(\"failed to load library \" + url);\n",
       "        };\n",
       "        console.log(\"Bokeh: injecting script tag for BokehJS library: \", url);\n",
       "        document.getElementsByTagName(\"head\")[0].appendChild(s);\n",
       "      }\n",
       "    };var element = document.getElementById(\"b6505abb-9681-4587-b0f8-eee6d465b59b\");\n",
       "    if (element == null) {\n",
       "      console.log(\"Bokeh: ERROR: autoload.js configured with elementid 'b6505abb-9681-4587-b0f8-eee6d465b59b' but no matching script tag was found. \")\n",
       "      return false;\n",
       "    }\n",
       "  \n",
       "    var js_urls = [];\n",
       "  \n",
       "    var inline_js = [\n",
       "      function(Bokeh) {\n",
       "        (function() {\n",
       "          var fn = function() {\n",
       "            var docs_json = {\"ed5a9919-18b5-49a2-977e-ea37656227a2\":{\"roots\":{\"references\":[{\"attributes\":{\"line_color\":{\"value\":\"#1f77b4\"},\"x\":{\"field\":\"x\"},\"y\":{\"field\":\"y\"}},\"id\":\"34443dea-ae29-4049-8b90-18f0b0f00a2d\",\"type\":\"Line\"},{\"attributes\":{},\"id\":\"3760df3d-3ec1-4120-b1cc-4190c5d0807f\",\"type\":\"BasicTickFormatter\"},{\"attributes\":{},\"id\":\"099140ed-f25e-4861-b6b8-d8978cfa0977\",\"type\":\"BasicTicker\"},{\"attributes\":{\"plot\":{\"id\":\"58e8fff7-fa1c-4e76-9333-a0908ac2bbdd\",\"subtype\":\"Figure\",\"type\":\"Plot\"}},\"id\":\"f708ff35-a2f4-40b5-9f5a-6244e97615b4\",\"type\":\"PanTool\"},{\"attributes\":{\"line_alpha\":{\"value\":0.1},\"line_color\":{\"value\":\"#1f77b4\"},\"x\":{\"field\":\"x\"},\"y\":{\"field\":\"y\"}},\"id\":\"237f7e8f-712c-4ff4-a8be-496305fe8f82\",\"type\":\"Line\"},{\"attributes\":{\"callback\":null},\"id\":\"8073b166-cba3-4f06-aa9a-fcbb21c5e092\",\"type\":\"DataRange1d\"},{\"attributes\":{\"callback\":null,\"column_names\":[\"x\",\"y\"],\"data\":{\"x\":[0,1,2,3,4,5,6],\"y\":[0.0,1.0,1.4,1.7,2.0,2.2,2.4]}},\"id\":\"d71a3f15-e320-4c12-8a4c-12bddbe5f41a\",\"type\":\"ColumnDataSource\"},{\"attributes\":{\"plot\":{\"id\":\"58e8fff7-fa1c-4e76-9333-a0908ac2bbdd\",\"subtype\":\"Figure\",\"type\":\"Plot\"}},\"id\":\"2daeed23-3655-44a6-8a9f-e16adb8b26ab\",\"type\":\"WheelZoomTool\"},{\"attributes\":{\"active_drag\":\"auto\",\"active_scroll\":\"auto\",\"active_tap\":\"auto\",\"tools\":[{\"id\":\"f708ff35-a2f4-40b5-9f5a-6244e97615b4\",\"type\":\"PanTool\"},{\"id\":\"2daeed23-3655-44a6-8a9f-e16adb8b26ab\",\"type\":\"WheelZoomTool\"},{\"id\":\"ff449c6c-c277-477c-a359-9f2d8205ebc3\",\"type\":\"BoxZoomTool\"},{\"id\":\"c699f61f-c6ff-4a56-a0fc-fcfa13510193\",\"type\":\"SaveTool\"},{\"id\":\"e952dc9b-cf9d-4afa-9a0c-2641e0dc36f4\",\"type\":\"ResetTool\"},{\"id\":\"8b774431-a06b-4bcb-b134-e42ff2e5fb9a\",\"type\":\"HelpTool\"}]},\"id\":\"d620fae7-f55f-40fa-a7de-e5f15e5bc121\",\"type\":\"Toolbar\"},{\"attributes\":{\"plot\":{\"id\":\"58e8fff7-fa1c-4e76-9333-a0908ac2bbdd\",\"subtype\":\"Figure\",\"type\":\"Plot\"}},\"id\":\"8b774431-a06b-4bcb-b134-e42ff2e5fb9a\",\"type\":\"HelpTool\"},{\"attributes\":{\"plot\":{\"id\":\"58e8fff7-fa1c-4e76-9333-a0908ac2bbdd\",\"subtype\":\"Figure\",\"type\":\"Plot\"}},\"id\":\"c699f61f-c6ff-4a56-a0fc-fcfa13510193\",\"type\":\"SaveTool\"},{\"attributes\":{\"bottom_units\":\"screen\",\"fill_alpha\":{\"value\":0.5},\"fill_color\":{\"value\":\"lightgrey\"},\"left_units\":\"screen\",\"level\":\"overlay\",\"line_alpha\":{\"value\":1.0},\"line_color\":{\"value\":\"black\"},\"line_dash\":[4,4],\"line_width\":{\"value\":2},\"plot\":null,\"render_mode\":\"css\",\"right_units\":\"screen\",\"top_units\":\"screen\"},\"id\":\"b4d9cca9-c89f-4aee-a771-4e7c66fc7bdb\",\"type\":\"BoxAnnotation\"},{\"attributes\":{\"formatter\":{\"id\":\"3760df3d-3ec1-4120-b1cc-4190c5d0807f\",\"type\":\"BasicTickFormatter\"},\"plot\":{\"id\":\"58e8fff7-fa1c-4e76-9333-a0908ac2bbdd\",\"subtype\":\"Figure\",\"type\":\"Plot\"},\"ticker\":{\"id\":\"3cac9ea5-238b-48c6-8c98-bb6c86771b74\",\"type\":\"BasicTicker\"}},\"id\":\"5c34a50e-a189-4ff6-b39a-30dffa618d77\",\"type\":\"LinearAxis\"},{\"attributes\":{\"overlay\":{\"id\":\"b4d9cca9-c89f-4aee-a771-4e7c66fc7bdb\",\"type\":\"BoxAnnotation\"},\"plot\":{\"id\":\"58e8fff7-fa1c-4e76-9333-a0908ac2bbdd\",\"subtype\":\"Figure\",\"type\":\"Plot\"}},\"id\":\"ff449c6c-c277-477c-a359-9f2d8205ebc3\",\"type\":\"BoxZoomTool\"},{\"attributes\":{\"dimension\":1,\"plot\":{\"id\":\"58e8fff7-fa1c-4e76-9333-a0908ac2bbdd\",\"subtype\":\"Figure\",\"type\":\"Plot\"},\"ticker\":{\"id\":\"3cac9ea5-238b-48c6-8c98-bb6c86771b74\",\"type\":\"BasicTicker\"}},\"id\":\"d749773d-2a64-4451-b67c-7796ab23dde6\",\"type\":\"Grid\"},{\"attributes\":{\"plot\":{\"id\":\"58e8fff7-fa1c-4e76-9333-a0908ac2bbdd\",\"subtype\":\"Figure\",\"type\":\"Plot\"},\"ticker\":{\"id\":\"099140ed-f25e-4861-b6b8-d8978cfa0977\",\"type\":\"BasicTicker\"}},\"id\":\"b2684fa9-56f6-4ba6-a9d7-6a64ead3dcaf\",\"type\":\"Grid\"},{\"attributes\":{\"plot\":null,\"text\":\"\"},\"id\":\"db504bba-bd80-4efc-ad68-baed7aeb127c\",\"type\":\"Title\"},{\"attributes\":{\"data_source\":{\"id\":\"d71a3f15-e320-4c12-8a4c-12bddbe5f41a\",\"type\":\"ColumnDataSource\"},\"glyph\":{\"id\":\"34443dea-ae29-4049-8b90-18f0b0f00a2d\",\"type\":\"Line\"},\"hover_glyph\":null,\"muted_glyph\":null,\"nonselection_glyph\":{\"id\":\"237f7e8f-712c-4ff4-a8be-496305fe8f82\",\"type\":\"Line\"},\"selection_glyph\":null},\"id\":\"cf59bb96-ee16-4247-9790-b14b0bd13c8f\",\"type\":\"GlyphRenderer\"},{\"attributes\":{\"below\":[{\"id\":\"796b15fa-7ec6-40d6-85c6-a7c75e793ace\",\"type\":\"LinearAxis\"}],\"left\":[{\"id\":\"5c34a50e-a189-4ff6-b39a-30dffa618d77\",\"type\":\"LinearAxis\"}],\"renderers\":[{\"id\":\"796b15fa-7ec6-40d6-85c6-a7c75e793ace\",\"type\":\"LinearAxis\"},{\"id\":\"b2684fa9-56f6-4ba6-a9d7-6a64ead3dcaf\",\"type\":\"Grid\"},{\"id\":\"5c34a50e-a189-4ff6-b39a-30dffa618d77\",\"type\":\"LinearAxis\"},{\"id\":\"d749773d-2a64-4451-b67c-7796ab23dde6\",\"type\":\"Grid\"},{\"id\":\"b4d9cca9-c89f-4aee-a771-4e7c66fc7bdb\",\"type\":\"BoxAnnotation\"},{\"id\":\"cf59bb96-ee16-4247-9790-b14b0bd13c8f\",\"type\":\"GlyphRenderer\"}],\"title\":{\"id\":\"db504bba-bd80-4efc-ad68-baed7aeb127c\",\"type\":\"Title\"},\"tool_events\":{\"id\":\"44d48ab0-0f0f-4dba-8f13-8d1caa45dd91\",\"type\":\"ToolEvents\"},\"toolbar\":{\"id\":\"d620fae7-f55f-40fa-a7de-e5f15e5bc121\",\"type\":\"Toolbar\"},\"x_range\":{\"id\":\"f52df4e0-43ff-43c9-a6d0-ad8eccbcb56e\",\"type\":\"DataRange1d\"},\"y_range\":{\"id\":\"8073b166-cba3-4f06-aa9a-fcbb21c5e092\",\"type\":\"DataRange1d\"}},\"id\":\"58e8fff7-fa1c-4e76-9333-a0908ac2bbdd\",\"subtype\":\"Figure\",\"type\":\"Plot\"},{\"attributes\":{\"plot\":{\"id\":\"58e8fff7-fa1c-4e76-9333-a0908ac2bbdd\",\"subtype\":\"Figure\",\"type\":\"Plot\"}},\"id\":\"e952dc9b-cf9d-4afa-9a0c-2641e0dc36f4\",\"type\":\"ResetTool\"},{\"attributes\":{\"formatter\":{\"id\":\"ca087e22-7c7f-4372-a3ff-e970601b5486\",\"type\":\"BasicTickFormatter\"},\"plot\":{\"id\":\"58e8fff7-fa1c-4e76-9333-a0908ac2bbdd\",\"subtype\":\"Figure\",\"type\":\"Plot\"},\"ticker\":{\"id\":\"099140ed-f25e-4861-b6b8-d8978cfa0977\",\"type\":\"BasicTicker\"}},\"id\":\"796b15fa-7ec6-40d6-85c6-a7c75e793ace\",\"type\":\"LinearAxis\"},{\"attributes\":{},\"id\":\"3cac9ea5-238b-48c6-8c98-bb6c86771b74\",\"type\":\"BasicTicker\"},{\"attributes\":{},\"id\":\"ca087e22-7c7f-4372-a3ff-e970601b5486\",\"type\":\"BasicTickFormatter\"},{\"attributes\":{\"callback\":null},\"id\":\"f52df4e0-43ff-43c9-a6d0-ad8eccbcb56e\",\"type\":\"DataRange1d\"},{\"attributes\":{},\"id\":\"44d48ab0-0f0f-4dba-8f13-8d1caa45dd91\",\"type\":\"ToolEvents\"}],\"root_ids\":[\"58e8fff7-fa1c-4e76-9333-a0908ac2bbdd\"]},\"title\":\"Bokeh Application\",\"version\":\"0.12.5\"}};\n",
       "            var render_items = [{\"docid\":\"ed5a9919-18b5-49a2-977e-ea37656227a2\",\"elementid\":\"b6505abb-9681-4587-b0f8-eee6d465b59b\",\"modelid\":\"58e8fff7-fa1c-4e76-9333-a0908ac2bbdd\"}];\n",
       "            \n",
       "            Bokeh.embed.embed_items(docs_json, render_items);\n",
       "          };\n",
       "          if (document.readyState != \"loading\") fn();\n",
       "          else document.addEventListener(\"DOMContentLoaded\", fn);\n",
       "        })();\n",
       "      },\n",
       "      function(Bokeh) {\n",
       "      }\n",
       "    ];\n",
       "  \n",
       "    function run_inline_js() {\n",
       "      \n",
       "      if ((window.Bokeh !== undefined) || (force === true)) {\n",
       "        for (var i = 0; i < inline_js.length; i++) {\n",
       "          inline_js[i](window.Bokeh);\n",
       "        }if (force === true) {\n",
       "          display_loaded();\n",
       "        }} else if (Date.now() < window._bokeh_timeout) {\n",
       "        setTimeout(run_inline_js, 100);\n",
       "      } else if (!window._bokeh_failed_load) {\n",
       "        console.log(\"Bokeh: BokehJS failed to load within specified timeout.\");\n",
       "        window._bokeh_failed_load = true;\n",
       "      } else if (force !== true) {\n",
       "        var cell = $(document.getElementById(\"b6505abb-9681-4587-b0f8-eee6d465b59b\")).parents('.cell').data().cell;\n",
       "        cell.output_area.append_execute_result(NB_LOAD_WARNING)\n",
       "      }\n",
       "  \n",
       "    }\n",
       "  \n",
       "    if (window._bokeh_is_loading === 0) {\n",
       "      console.log(\"Bokeh: BokehJS loaded, going straight to plotting\");\n",
       "      run_inline_js();\n",
       "    } else {\n",
       "      load_libs(js_urls, function() {\n",
       "        console.log(\"Bokeh: BokehJS plotting callback run at\", now());\n",
       "        run_inline_js();\n",
       "      });\n",
       "    }\n",
       "  }(this));\n",
       "</script>"
      ]
     },
     "metadata": {},
     "output_type": "display_data"
    }
   ],
   "source": [
    "from bokeh.plotting import figure, show, output_notebook\n",
    "\n",
    "x_values = [0, 1, 2, 3, 4, 5, 6]\n",
    "y_values = [0.0, 1.0, 1.4, 1.7, 2.0, 2.2, 2.4]\n",
    "\n",
    "p = figure()\n",
    "\n",
    "p.line(x_values, y_values)\n",
    "\n",
    "output_notebook()\n",
    "show(p)"
   ]
  },
  {
   "cell_type": "markdown",
   "metadata": {},
   "source": [
    "# Experience Points\n",
    "---"
   ]
  },
  {
   "cell_type": "markdown",
   "metadata": {},
   "source": [
    "In the code cell above, try the following experiments:\n",
    "\n",
    "1. Add an additional number to `x_values` and to `y_values` and execute the cell (press `Ctrl+Enter`)\n",
    "1. Swap the `x_values` and `y_values` (i.e. change `p.line(...)` to `p.line(y_values, x_values)` and execute the cell \n",
    "1. Add an additional value to the `x_values`, but leave the `y_values` alone, so that the number of elements is no longer the same, and execute the cell"
   ]
  },
  {
   "cell_type": "markdown",
   "metadata": {},
   "source": [
    "# Getting help\n",
    "---"
   ]
  },
  {
   "cell_type": "markdown",
   "metadata": {
    "collapsed": true
   },
   "source": [
    "```python\n",
    "object?\n",
    "```\n",
    "\n",
    "For example:\n",
    "\n",
    "```python\n",
    "p? \n",
    "```"
   ]
  },
  {
   "cell_type": "code",
   "execution_count": 30,
   "metadata": {
    "collapsed": true
   },
   "outputs": [],
   "source": [
    "p?"
   ]
  },
  {
   "cell_type": "markdown",
   "metadata": {},
   "source": [
    "# Don't know what functions are available?\n",
    "---"
   ]
  },
  {
   "cell_type": "markdown",
   "metadata": {
    "collapsed": true
   },
   "source": [
    "\n",
    "`p.<tab-complete>`"
   ]
  },
  {
   "cell_type": "code",
   "execution_count": null,
   "metadata": {
    "collapsed": true
   },
   "outputs": [],
   "source": []
  },
  {
   "cell_type": "markdown",
   "metadata": {},
   "source": [
    "# Want insight into what a particular function can do?\n",
    "---"
   ]
  },
  {
   "cell_type": "markdown",
   "metadata": {
    "collapsed": true
   },
   "source": [
    "\n",
    "`p.line?`"
   ]
  },
  {
   "cell_type": "code",
   "execution_count": null,
   "metadata": {
    "collapsed": true
   },
   "outputs": [],
   "source": [
    "p.line?"
   ]
  },
  {
   "cell_type": "markdown",
   "metadata": {},
   "source": [
    "# Experience Points\n",
    "---"
   ]
  },
  {
   "cell_type": "markdown",
   "metadata": {},
   "source": [
    "In the code cell above, use IPython help to read about the `p.line` method:\n",
    "\n",
    "1. **DON'T FRET** if some of it feels like gibberish OR certain words or phrases are unclear. \n",
    "\n",
    "1. This exercise is more about familiarizing you with what is available. Plus, many of these are found associated with every type of glyph, so you will see them over and over again and your familiarity will grow over time.\n",
    "\n",
    "1. I am not an expert on all of the parameters associated with the various glyphs."
   ]
  },
  {
   "cell_type": "markdown",
   "metadata": {},
   "source": [
    "# Let's do it again, but moar!\n",
    "---\n",
    "\n",
    "## with Circles\n",
    "## with Dashes"
   ]
  },
  {
   "cell_type": "code",
   "execution_count": null,
   "metadata": {},
   "outputs": [],
   "source": [
    "from bokeh.plotting import figure, show, output_notebook\n",
    "import numpy as np\n",
    "\n",
    "moar = figure()\n",
    "\n",
    "x = np.linspace(0.1, 5, 100)               # figures can handle numpy arrays\n",
    "y = range(0, 200, 2)                       # and ranges()\n",
    "\n",
    "# Let's use circular markers and a dotted and dashed line\n",
    "# AND \n",
    "# add a legend with unique entries for each line\n",
    "\n",
    "moar.circle(x, np.cumsum(x),\n",
    "            legend=\"y=cumsum(y)\")\n",
    "\n",
    "moar.line(x, y, \n",
    "          legend=\"y=range(0, 500, 5)\",\n",
    "          line_color=\"#663399\", line_dash=\"dotdash\")\n",
    "\n",
    "# And add a legend created from the legend attributes of each item\n",
    "\n",
    "moar.legend.location = \"top_left\"\n",
    "\n",
    "output_notebook()\n",
    "show(moar)"
   ]
  },
  {
   "cell_type": "markdown",
   "metadata": {},
   "source": [
    "## Colors\n",
    "\n",
    "* any of the 147 named CSS colors, e.g `green`, `indigo`\n",
    "* a Red, Green, Blue (Alpha) >> RGB(A) hex value, e.g., `#FF0000`, `#44444444`\n",
    "* a 3-tuple of integers (R, G, B) between 0 and 255\n",
    "* a 4-tuple of (R, G, B, A) where R, G, B are integers between 0 and 255 and A is a floating point value between 0 and 1\n",
    "\n",
    "## What colors?\n",
    "[https://en.wikipedia.org/wiki/Web_colors](https://en.wikipedia.org/wiki/Web_colors)"
   ]
  },
  {
   "cell_type": "markdown",
   "metadata": {},
   "source": [
    "# Moarest! adding multiple features to a basic graph\n",
    "---"
   ]
  },
  {
   "cell_type": "code",
   "execution_count": null,
   "metadata": {},
   "outputs": [],
   "source": [
    "from bokeh.plotting import figure, show, output_file, output_notebook\n",
    "import numpy as np\n",
    "\n",
    "x = np.linspace(0.1, 5, 100)\n",
    "y = x\n",
    "\n",
    "# Add a title and define the type of y-axis, including the range of values for the y-axis\n",
    "\n",
    "p = figure(title=\"log axis example\", \n",
    "           y_axis_type=\"log\", y_range=(0.001, 10**22))\n",
    "\n",
    "# Set the fill color for our circles to None\n",
    "\n",
    "p.circle(x, y**2, legend=\"y=x**2\", \n",
    "         fill_color=None, \n",
    "         line_color=\"blueviolet\", size=5)"
   ]
  },
  {
   "cell_type": "code",
   "execution_count": null,
   "metadata": {},
   "outputs": [],
   "source": [
    "# increase the line width to 4\n",
    "\n",
    "p.line(x, 10**y, legend=\"y=10^x\", line_color=\"darkred\", \n",
    "       line_width=2)"
   ]
  },
  {
   "cell_type": "code",
   "execution_count": null,
   "metadata": {},
   "outputs": [],
   "source": [
    "# Add a line composed of squares\n",
    "# Use hex this time to color the line\n",
    "\n",
    "p.square(x, 10**(x**2), legend=\"y=10^(x^2)\",\n",
    "       line_color=\"#663399\", \n",
    "       line_dash=\"solid\", line_width=2)\n",
    "\n",
    "# Move the legend location\n",
    "# Change the legend font\n",
    "\n",
    "p.legend.location = \"center_left\"\n",
    "p.legend.label_text_font='times'\n",
    "\n",
    "# Change characteristics of the title text (color, font, font-style)\n",
    "\n",
    "p.title.text_font_size = '16pt'\n",
    "p.title.text_color = \"navy\"\n",
    "p.title.text_font = \"courier\"\n",
    "p.title.text_font_style = \"bold\"\n",
    "\n",
    "# Set the background color\n",
    "\n",
    "p.background_fill_color = \"whitesmoke\"\n",
    "\n",
    "output_notebook()\n",
    "show(p)"
   ]
  },
  {
   "cell_type": "markdown",
   "metadata": {},
   "source": [
    "# Color Palettes\n",
    "---"
   ]
  },
  {
   "cell_type": "markdown",
   "metadata": {},
   "source": [
    "http://bokeh.pydata.org/en/latest/docs/reference/palettes.html\n",
    "\n",
    "<img src='./images/purples.png' height='250' width='300' style=\"float:right\">"
   ]
  },
  {
   "cell_type": "code",
   "execution_count": null,
   "metadata": {},
   "outputs": [],
   "source": [
    "from bokeh.palettes import Purples\n",
    "\n",
    "# Internally, palettes such as Purples are stored as dictionaries:\n",
    "\n",
    "# Key: integer indicating how many colors are in a sub palette\n",
    "# Value: list of strings indicating the actual color values \n",
    "\n",
    "print(Purples[3], Purples[5], sep='\\n', end='\\n\\n')\n",
    "\n",
    "line_color = Purples[5][1]      # '#756bb1'\n",
    "print(\"line_color\", line_color)"
   ]
  },
  {
   "cell_type": "code",
   "execution_count": null,
   "metadata": {},
   "outputs": [],
   "source": [
    "p.line(x, np.sqrt(x) * 100, legend=\"y=sqrt(x)\", line_color=line_color, line_dash=\"dotdash\", line_width=3)\n",
    "show(p)"
   ]
  },
  {
   "cell_type": "markdown",
   "metadata": {},
   "source": [
    "## Navigation\n",
    "---\n",
    "\n",
    "| Previous | Up | Next |\n",
    "|:-----|:-----:|-----:|\n",
    "| <<< [History](./history.ipynb) | [Table of Contents](./README.md) | [Five Fun Examples](./five_fun.ipynb) >>> |"
   ]
  }
 ],
 "metadata": {
  "anaconda-cloud": {},
  "celltoolbar": "Slideshow",
  "kernelspec": {
   "display_name": "Python 3",
   "language": "python",
   "name": "python3"
  },
  "language_info": {
   "codemirror_mode": {
    "name": "ipython",
    "version": 3
   },
   "file_extension": ".py",
   "mimetype": "text/x-python",
   "name": "python",
   "nbconvert_exporter": "python",
   "pygments_lexer": "ipython3",
   "version": "3.5.2"
  }
 },
 "nbformat": 4,
 "nbformat_minor": 2
}
