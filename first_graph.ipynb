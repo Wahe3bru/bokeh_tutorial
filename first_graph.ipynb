{
 "cells": [
  {
   "cell_type": "markdown",
   "metadata": {},
   "source": [
    "# Introduction to bokeh\n",
    "\n",
    "## Picture this, your first basic graph\n",
    "---\n",
    "\n",
    "<img src='./images/logos.3.600.wide.png' height='250' width='300' style=\"float:right\">"
   ]
  },
  {
   "cell_type": "markdown",
   "metadata": {},
   "source": [
    "# Creating a basic graph\n",
    "---"
   ]
  },
  {
   "cell_type": "code",
   "execution_count": null,
   "metadata": {},
   "outputs": [],
   "source": [
    "from bokeh.plotting import figure, show, output_notebook\n",
    "\n",
    "x_values = [0, 1, 2, 3, 4, 5, 6]\n",
    "y_values = [0.0, 1.0, 1.4, 1.7, 2.0, 2.2, 2.4]\n",
    "\n",
    "p = figure()\n",
    "\n",
    "p.line(x_values, y_values)\n",
    "\n",
    "output_notebook()\n",
    "show(p)"
   ]
  },
  {
   "cell_type": "markdown",
   "metadata": {},
   "source": [
    "# Experience Points\n",
    "---"
   ]
  },
  {
   "cell_type": "markdown",
   "metadata": {},
   "source": [
    "In the code cell above, try the following experiments:\n",
    "\n",
    "1. Add an additional number to `x_values` and to `y_values` and execute the cell (press `Ctrl+Enter`)\n",
    "1. Swap the `x_values` and `y_values` (i.e. change `p.line(...)` to `p.line(y_values, x_values)` and execute the cell \n",
    "1. Add an additional value to the `x_values`, but leave the `y_values` alone, so that the number of elements is no longer the same, and execute the cell"
   ]
  },
  {
   "cell_type": "markdown",
   "metadata": {},
   "source": [
    "# Getting help\n",
    "---"
   ]
  },
  {
   "cell_type": "markdown",
   "metadata": {
    "collapsed": true
   },
   "source": [
    "```python\n",
    "object?\n",
    "```\n",
    "\n",
    "For example:\n",
    "\n",
    "```python\n",
    "p? \n",
    "```"
   ]
  },
  {
   "cell_type": "code",
   "execution_count": null,
   "metadata": {
    "collapsed": true
   },
   "outputs": [],
   "source": [
    "p?"
   ]
  },
  {
   "cell_type": "markdown",
   "metadata": {},
   "source": [
    "# Don't know what functions are available?\n",
    "---"
   ]
  },
  {
   "cell_type": "markdown",
   "metadata": {
    "collapsed": true
   },
   "source": [
    "\n",
    "`p.<tab-complete>`"
   ]
  },
  {
   "cell_type": "code",
   "execution_count": null,
   "metadata": {
    "collapsed": true
   },
   "outputs": [],
   "source": []
  },
  {
   "cell_type": "markdown",
   "metadata": {},
   "source": [
    "# Want insight into what a particular function can do?\n",
    "---"
   ]
  },
  {
   "cell_type": "markdown",
   "metadata": {
    "collapsed": true
   },
   "source": [
    "\n",
    "`p.line?`"
   ]
  },
  {
   "cell_type": "code",
   "execution_count": null,
   "metadata": {
    "collapsed": true
   },
   "outputs": [],
   "source": [
    "p.line?"
   ]
  },
  {
   "cell_type": "markdown",
   "metadata": {},
   "source": [
    "# Experience Points\n",
    "---"
   ]
  },
  {
   "cell_type": "markdown",
   "metadata": {},
   "source": [
    "In the code cell above, use IPython help to read about the `p.line` method:\n",
    "\n",
    "1. **DON'T FRET** if some of it feels like gibberish OR certain words or phrases are unclear. \n",
    "\n",
    "1. This exercise is more about familiarizing you with what is available. Plus, many of these are found associated with every type of glyph, so you will see them over and over again and your familiarity will grow over time.\n",
    "\n",
    "1. I am not an expert on all of the parameters associated with the various glyphs."
   ]
  },
  {
   "cell_type": "markdown",
   "metadata": {},
   "source": [
    "# Let's do it again, but moar!\n",
    "---\n",
    "\n",
    "## with Circles\n",
    "## with Dashes"
   ]
  },
  {
   "cell_type": "code",
   "execution_count": null,
   "metadata": {},
   "outputs": [],
   "source": [
    "from bokeh.plotting import figure, show, output_notebook\n",
    "import numpy as np\n",
    "\n",
    "moar = figure()\n",
    "\n",
    "x = np.linspace(0.1, 5, 100)               # figures can handle numpy arrays\n",
    "y = range(0, 200, 2)                             # and ranges\n",
    "\n",
    "# Let's use circular markers and a dotted and dashed line\n",
    "# AND \n",
    "# add a legend with unique entries for each line\n",
    "\n",
    "moar.circle(x, np.cumsum(x), legend=\"y=cumsum(y)\")\n",
    "moar.line(x, y, legend=\"y=range(0, 500, 5)\", line_color=\"#663399\", line_dash=\"dotdash\")\n",
    "\n",
    "# And add a legend built off the legend attributes of each item\n",
    "\n",
    "moar.legend.location = \"top_left\"\n",
    "\n",
    "output_notebook()\n",
    "show(moar)"
   ]
  },
  {
   "cell_type": "markdown",
   "metadata": {},
   "source": [
    "## Colors\n",
    "\n",
    "* any of the 147 named CSS colors, e.g `green`, `indigo`\n",
    "* a Red, Green, Blue (Alpha) >> RGB(A) hex value, e.g., `#FF0000`, `#44444444`\n",
    "* a 3-tuple of integers (R, G, B) between 0 and 255\n",
    "* a 4-tuple of (R, G, B, A) where R, G, B are integers between 0 and 255 and A is a floating point value between 0 and 1\n",
    "\n",
    "## What colors?\n",
    "[https://en.wikipedia.org/wiki/Web_colors](https://en.wikipedia.org/wiki/Web_colors)"
   ]
  },
  {
   "cell_type": "markdown",
   "metadata": {},
   "source": [
    "# Moarest! adding multiple features to a basic graph\n",
    "---"
   ]
  },
  {
   "cell_type": "code",
   "execution_count": null,
   "metadata": {},
   "outputs": [],
   "source": [
    "from bokeh.plotting import figure, show, output_file, output_notebook\n",
    "import numpy as np\n",
    "\n",
    "x = np.linspace(0.1, 5, 100)\n",
    "y = x\n",
    "\n",
    "# Add a title and define the type of y-axis, including the range of values for the y-axis\n",
    "\n",
    "p = figure(title=\"log axis example\", y_axis_type=\"log\", y_range=(0.001, 10**22))\n",
    "\n",
    "# Set the fill color for our circles to None\n",
    "\n",
    "p.circle(x, y**2, legend=\"y=x**2\", fill_color=None, line_color=\"blueviolet\", size=5)"
   ]
  },
  {
   "cell_type": "code",
   "execution_count": null,
   "metadata": {},
   "outputs": [],
   "source": [
    "# increase the line width to 4\n",
    "\n",
    "p.line(x, 10**y, legend=\"y=10^x\", line_color=\"darkred\", line_width=2)"
   ]
  },
  {
   "cell_type": "code",
   "execution_count": null,
   "metadata": {},
   "outputs": [],
   "source": [
    "# Add a line composed of diamonds\n",
    "# Use hex this time to color the line\n",
    "\n",
    "p.square(x, 10**(x**2), legend=\"y=10^(x^2)\",\n",
    "       line_color=\"#663399\", line_dash=\"solid\", line_width=2)\n",
    "\n",
    "# Move the legend location\n",
    "# Change the legend font\n",
    "\n",
    "p.legend.location = \"center_left\"\n",
    "p.legend.label_text_font='times'\n",
    "\n",
    "# Change characteristics of the title text (color, font, font-style)\n",
    "\n",
    "p.title.text_font_size = '16pt'\n",
    "p.title.text_color = \"navy\"\n",
    "p.title.text_font = \"courier\"\n",
    "p.title.text_font_style = \"bold\"\n",
    "\n",
    "# Set the background color\n",
    "\n",
    "p.background_fill_color = \"whitesmoke\"\n",
    "\n",
    "output_notebook()\n",
    "show(p)"
   ]
  },
  {
   "cell_type": "markdown",
   "metadata": {},
   "source": [
    "# Color Palettes\n",
    "---"
   ]
  },
  {
   "cell_type": "markdown",
   "metadata": {},
   "source": [
    "http://bokeh.pydata.org/en/latest/docs/reference/palettes.html\n",
    "\n",
    "<img src='./images/purples.png' height='250' width='300' style=\"float:right\">"
   ]
  },
  {
   "cell_type": "code",
   "execution_count": null,
   "metadata": {},
   "outputs": [],
   "source": [
    "from bokeh.palettes import Purples\n",
    "\n",
    "# Internally, palettes such as Purples are stored as dictionaries:\n",
    "\n",
    "# Key: integer indicating how many colors are in a sub palette\n",
    "# Value: list of strings indicating the actual color values \n",
    "\n",
    "print(Purples[3], Purples[5], sep='\\n', end='\\n\\n')\n",
    "\n",
    "line_color = Purples[5][1]      # '#756bb1'\n",
    "print(\"line_color\", line_color)"
   ]
  },
  {
   "cell_type": "code",
   "execution_count": null,
   "metadata": {},
   "outputs": [],
   "source": [
    "p.line(x, np.sqrt(x) * 100, legend=\"y=sqrt(x)\", line_color=line_color, line_dash=\"dotdash\", line_width=3)\n",
    "show(p)"
   ]
  },
  {
   "cell_type": "markdown",
   "metadata": {},
   "source": [
    "## Navigation\n",
    "---\n",
    "\n",
    "| Previous | Up | Next |\n",
    "|:-----|:-----:|-----:|\n",
    "| <<< [History](./history.ipynb) | [Table of Contents](./README.md) | [Five Fun Examples](./five_fun.ipynb) >>> |"
   ]
  }
 ],
 "metadata": {
  "anaconda-cloud": {},
  "celltoolbar": "Slideshow",
  "kernelspec": {
   "display_name": "Python 3",
   "language": "python",
   "name": "python3"
  },
  "language_info": {
   "codemirror_mode": {
    "name": "ipython",
    "version": 3
   },
   "file_extension": ".py",
   "mimetype": "text/x-python",
   "name": "python",
   "nbconvert_exporter": "python",
   "pygments_lexer": "ipython3",
   "version": "3.5.2"
  }
 },
 "nbformat": 4,
 "nbformat_minor": 2
}
