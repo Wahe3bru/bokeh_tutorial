{
 "cells": [
  {
   "cell_type": "markdown",
   "metadata": {},
   "source": [
    "# Introduction to bokeh\n",
    "\n",
    "## Charting your course\n",
    "---\n",
    "\n",
    "<img src='./images/logos.3.600.wide.png' height='250' width='300' style=\"float:right\">"
   ]
  },
  {
   "cell_type": "markdown",
   "metadata": {},
   "source": [
    "## So where do you go from here?\n",
    "\n",
    "\n",
    "1. Read the manual >> lots of good stuff in there\n",
    "1. Don't recreate the wheel >> reuse the sample graphs\n",
    "1. Make **graphs**, lots and lots of graphs!"
   ]
  },
  {
   "cell_type": "markdown",
   "metadata": {},
   "source": [
    "## Navigation\n",
    "---\n",
    "\n",
    "| Previous | Next |\n",
    "|:----|-----:|\n",
    "| <<< [History](history.ipynb) | [XXX](./xxx.ipynb) >>> |"
   ]
  }
 ],
 "metadata": {
  "anaconda-cloud": {},
  "celltoolbar": "Slideshow",
  "kernelspec": {
   "display_name": "Python 3",
   "language": "python",
   "name": "python3"
  },
  "language_info": {
   "codemirror_mode": {
    "name": "ipython",
    "version": 3
   },
   "file_extension": ".py",
   "mimetype": "text/x-python",
   "name": "python",
   "nbconvert_exporter": "python",
   "pygments_lexer": "ipython3",
   "version": "3.5.2"
  }
 },
 "nbformat": 4,
 "nbformat_minor": 2
}
