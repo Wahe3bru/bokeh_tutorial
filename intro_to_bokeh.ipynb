{
 "cells": [
  {
   "cell_type": "markdown",
   "metadata": {},
   "source": [
    "# Introduction to bokeh\n",
    "\n",
    "<img src='./images/logos.3.600.wide.png' height='250' width='300' style=\"float:right\">"
   ]
  },
  {
   "cell_type": "markdown",
   "metadata": {},
   "source": [
    "## Who am I? Who are you? What is bokeh?\n",
    "---"
   ]
  },
  {
   "cell_type": "markdown",
   "metadata": {},
   "source": [
    "### Me...\n",
    "* Chalmer Lowe\n",
    "* @chalmer_lowe\n",
    "* chalmer@darkartofcoding.com\n",
    "\n",
    "\n",
    "### What I do...\n",
    "* Founder: Dark Art of Coding\n",
    "* Founder: PyHawaii\n",
    "* Senior Computer Scientist: Booz Allen Hamilton\n",
    "* Chair/Co-Chair: Pycon Education Summit\n",
    "* Introduction to Sprinting guy"
   ]
  },
  {
   "cell_type": "markdown",
   "metadata": {},
   "source": [
    "## Tell me about yourself...\n",
    "\n",
    "* Your background with:\n",
    "  * Python\n",
    "  * Visualization libraries like matplotlib, seaborn, bokeh\n",
    "* What would you like to visualize with bokeh?\n"
   ]
  },
  {
   "cell_type": "markdown",
   "metadata": {},
   "source": [
    "\"Bokeh is a Python interactive visualization library that targets modern web browsers for presentation. Its goal is to provide elegant, concise construction of novel graphics in the style of D3.js, and to extend this capability with high-performance interactivity over very large or streaming datasets. Bokeh can help anyone who would like to quickly and easily create interactive plots, dashboards, and data applications.\"\n",
    "\n",
    "<br>\n",
    "<div style=\"text-align: right\">Source: http://bokeh.pydata.org/en/latest/</div>"
   ]
  },
  {
   "cell_type": "markdown",
   "metadata": {},
   "source": [
    "# Today's agenda\n",
    "---"
   ]
  },
  {
   "cell_type": "markdown",
   "metadata": {},
   "source": [
    "* Install bokeh and other pertinent libraries\n",
    "* The history of bokeh\n",
    "* Your first basic graph\n",
    "\n",
    "    Break (5 mins) -------------------------------------------\n",
    "\n",
    "\n",
    "* Top 5 fun and entertaining plots\n",
    "* Wait, what? Why doesn't that work?\n",
    "\n",
    "    Break (5 mins) -------------------------------------------\n",
    "\n",
    "\n",
    "* Bokeh server app\n",
    "* Charting your course\n",
    "* But wait, there's more..."
   ]
  },
  {
   "cell_type": "markdown",
   "metadata": {},
   "source": [
    "# Installing Bokeh and other pertinent libraries\n",
    "---"
   ]
  },
  {
   "cell_type": "markdown",
   "metadata": {},
   "source": [
    "## Installing miniconda\n",
    "\n",
    "For this tutorial, we will\n",
    "\n",
    "* be using **Python version 3.5 (or above)** \n",
    "* be installing and using a number of packages/libraries, including: bokeh, numpy, scipy, etc.\n",
    "\n",
    "The version of Python you normally use and already have installed on your computer may be different from the one we use. The libraries you already have installed may also be very different from what we will use. \n",
    "\n",
    "To minimize conflicts AND to help ensure that for troubleshooting purposes, everyone is on pretty close to the same page, we will:\n",
    "\n",
    "1. Install miniconda\n",
    "1. Create a virtual environment to separate the software and libraries we install for the purposes of the tutorial from the software/libraries you may already have installed.\n",
    "1. Install Python and the needed libraries in the virtual environment\n",
    "\n",
    "### About miniconda vs Anaconda:\n",
    "\n",
    "**Miniconda** is produced by Continuum Analytics and gives you access to a wide variety of libraries used to perform data analytics (including, but not limited to numpy, pandas, bokeh, matplotlib, IPython, scikit learn, etc). Miniconda focuses on letting you pick and choose the libraries you want.\n",
    "\n",
    "**Anaconda**, is also produced by Continuum Analytics, AND installs by default, about 100+ data analysis libraries in one fell swoop. If you prefer to install Anaconda instead of miniconda, that is fine, just be forewarned that it can take a lot of space on your harddrive.\n",
    "\n",
    "IF you already have miniconda installed OR Anaconda installed, skip to the step below: **Using miniconda to create a virtualenv**"
   ]
  },
  {
   "cell_type": "markdown",
   "metadata": {},
   "source": [
    "### miniconda installation process\n",
    "\n",
    "To install miniconda, follow the instructions for your operating system in the [miniconda quickstart guide](http://conda.pydata.org/docs/install/quick.html)."
   ]
  },
  {
   "cell_type": "markdown",
   "metadata": {},
   "source": [
    "### Testing your install\n",
    "\n",
    "To confirm that the conda package manager that miniconda creates has been installed correctly:\n",
    "\n",
    "In a **command prompt** type `conda list`. If conda is installed properly, you will see a summary of the packages installed by conda, that looks something like this (simplified for clarity):\n",
    "\n",
    "    jarvis:~ tonystark$ conda list\n",
    "    # packages in environment at /Users/tonystark/miniconda3:\n",
    "    #\n",
    "    conda                     4.3.14                   py35_0\n",
    "    conda-env                 2.6.0                         0\n",
    "    ipython                   5.3.0                    py35_0\n",
    "    pip                       8.1.2                    py35_0\n",
    "    python                    3.5.2                         0\n",
    "    readline                  6.2                           2\n",
    "    setuptools                23.0.0                   py35_0\n",
    "    simplegeneric             0.8.1                    py35_1\n",
    "    six                       1.10.0                   py35_0\n",
    "\n",
    "For more information on using conda, try these resources:\n",
    "\n",
    "[Using conda](http://conda.pydata.org/docs/using/index.html): A tutorial on how to use conda\n",
    "\n",
    "[conda cheatsheet](https://conda.io/docs/_downloads/conda-cheatsheet.pdf): A cheatsheet of the most common conda commands\n"
   ]
  },
  {
   "cell_type": "markdown",
   "metadata": {},
   "source": [
    "# Virtual Environments\n",
    "\n",
    "* Enable you to create a standalone environment for your project\n",
    "* Minimizes conflicts between one project and another in terms of: \n",
    "  0. Python versions\n",
    "  1. Versions of other libraries that your project might depend upon\n",
    "\n",
    "\n",
    "## What is a virtual environment?\n",
    "\n",
    "Virtual environments (also called virtualenvs) are tools used to keep projects separate, especially in terms of keeping different Python versions separate and different library versions separate. Virtualenvs prevent Python's `site packages` folder  from getting disorganized and cluttered AND prevents problems that arise when one project needs `version x.x` of a library but another project needs `version y.y` of the same library. At their core, virtualenvs are glorified directories that use scripts and metadata to organize and control the environment. You are allowed to have an unlimited number of virtualenvs. And as you will see, they are very easy to create using the various command line tools, such as conda.\n",
    "\n",
    "## When should we use a virtual environment?\n",
    "\n",
    "As noted above, anytime you have more than one project and there is a possibility of conflicts between your libraries, it is a good time to use a virtualenv. Having said that, many programmers use virtual environments for **all but the most trivial** programming tasks. Especially for beginners, using virtualenvs early on in your learning career will build a valuable skill AND help eliminate sneaky bugs related to version discrepancies. Bugs that can be hard to diagnose.\n",
    "\n"
   ]
  },
  {
   "cell_type": "markdown",
   "metadata": {},
   "source": [
    "## Using miniconda to create a virtualenv\n",
    "\n",
    "Presuming you have `conda` installed, the following command will enable you to create your first virtual environment.\n",
    "\n",
    "```bash\n",
    "$ mkdir graphstuff\n",
    "$ cd graphstuff\n",
    "$ conda create -n graphs python=3\n",
    "```\n",
    "\n",
    "`conda` runs the conda program.\n",
    "\n",
    "`create` tells it to create a virtualenv\n",
    "\n",
    "`-n` identifies the name of the virtualenv, in this case, `graphs`\n",
    "\n",
    "`python=3` tells conda that you want to install Python version 3 in this virtualenv\n",
    "\n",
    "**NOTE**: conda will default to the most recent version of Python. If you need to select a specific minor version of Python, use the following syntax:\n",
    "\n",
    "`python=3.5`\n",
    "\n",
    "Conda will prepare to install Python and any dependencies that Python relies upon. It will display output similar to the following. \n",
    "\n",
    "    jarvis:intro_to_bokeh tonystark$ conda create -n graphs python=3\n",
    "    Fetching package metadata .......\n",
    "    Solving package specifications: ..........\n",
    "    \n",
    "    Package plan for installation in environment /Users/tonystark/miniconda3/envs/graphs:\n",
    "    \n",
    "    The following packages will be downloaded:\n",
    "    \n",
    "        package                    |            build\n",
    "        ---------------------------|-----------------\n",
    "        openssl-1.0.2k             |                1         3.0 MB\n",
    "        python-3.6.0               |                0        11.7 MB\n",
    "        setuptools-27.2.0          |           py36_0         523 KB\n",
    "        wheel-0.29.0               |           py36_0          87 KB\n",
    "        pip-9.0.1                  |           py36_1         1.7 MB\n",
    "        ------------------------------------------------------------\n",
    "                                               Total:        17.0 MB\n",
    "    \n",
    "    The following NEW packages will be INSTALLED:\n",
    "    \n",
    "        openssl:    1.0.2k-1\n",
    "        pip:        9.0.1-py36_1\n",
    "        python:     3.6.0-0\n",
    "        readline:   6.2-2\n",
    "        setuptools: 27.2.0-py36_0\n",
    "        sqlite:     3.13.0-0\n",
    "        tk:         8.5.18-0\n",
    "        wheel:      0.29.0-py36_0\n",
    "        xz:         5.2.2-1\n",
    "        zlib:       1.2.8-3\n",
    "    \n",
    "    Proceed ([y]/n)?\n",
    "\n",
    "To finish the creation of the virtualenv and install the software, press:\n",
    "\n",
    "`y`"
   ]
  },
  {
   "cell_type": "markdown",
   "metadata": {},
   "source": [
    "## Activating your virtualenv \n",
    "\n",
    "Once you have created a virtualenv, you will need to activate it. Activation has several side effects:\n",
    "\n",
    "* It temporarily changes your `$PATH` variable so calls to the `python` executable (and similar commands) will look first in the virtualenv's bin/ directory. \n",
    "* It temporarily changes your shell prompt to show which virtualenv you are using. Your prompt will likely look something like this, with the name of your virtualenv in parenthesis in front of the prompt:\n",
    "    * `(graphs) jarvis:graphstuff tonystark$` \n",
    "    * `(graphs) C:\\graphstuff>`\n",
    "\n",
    "To activate your virtualenv, run the appropriate command for your operating system:\n",
    "\n",
    "### Linux\\Mac OSX version\n",
    "\n",
    "```bash\n",
    "$ source activate graphs\n",
    "```\n",
    "### Windows version\n",
    "\n",
    "```bat\n",
    "C:\\> activate graphs\n",
    "```\n",
    "\n"
   ]
  },
  {
   "cell_type": "markdown",
   "metadata": {},
   "source": [
    "## Using miniconda to install bokeh\n",
    "\n",
    "### Adding software to your virtualenv \n",
    "\n",
    "To add more software to the virtualenv, you can use `conda` to install the software. The maintainers of conda provide access to many Python libraries, but not all of them. If conda cannot install a particular library that you need, you can generally use `pip` to install it instead (covering pip is outside the scope of this workshop).\n",
    "\n",
    "Please install IPython using the following `conda` command:\n",
    "\n",
    "```\n",
    "conda install ipython\n",
    "```\n",
    "\n",
    "Conda will prepare to install IPython and any dependencies that IPython relies upon. It will display output similar to the following (truncated to save space).\n",
    "\n",
    "\n",
    "    Fetching package metadata .......\n",
    "    Solving package specifications: ..........\n",
    "    \n",
    "    Package plan for installation in environment /Users/chalmerlowe/miniconda3:\n",
    "    \n",
    "    The following packages will be downloaded:\n",
    "    \n",
    "        package                    |            build\n",
    "        ---------------------------|-----------------\n",
    "        conda-env-2.6.0            |                0          601 B\n",
    "        ...\n",
    "        ipython-5.3.0              |           py35_0        1021 KB\n",
    "        conda-4.3.14               |           py35_0         505 KB\n",
    "        ------------------------------------------------------------\n",
    "                                               Total:         3.8 MB\n",
    "    \n",
    "    The following NEW packages will be INSTALLED:\n",
    "    \n",
    "        appnope:          0.1.0-py35_0\n",
    "        ...\n",
    "        wcwidth:          0.1.7-py35_0\n",
    "    \n",
    "    The following packages will be UPDATED:\n",
    "    \n",
    "        conda:            4.1.11-py35_0 --> 4.3.14-py35_0\n",
    "        conda-env:        2.5.2-py35_0  --> 2.6.0-0\n",
    "        requests:         2.10.0-py35_0 --> 2.13.0-py35_0\n",
    "    \n",
    "    Proceed ([y]/n)?\n",
    "\n",
    "To finish the installation of IPython and its dependencies, press:\n",
    "\n",
    "`y`\n",
    "\n",
    "\n"
   ]
  },
  {
   "cell_type": "markdown",
   "metadata": {},
   "source": [
    "# Install the rest of the packages\n",
    "\n",
    "The rest of the packages for this tutorial can be installed using the following command (separate the name of each package with a space):\n",
    "\n",
    "`conda install bokeh jupyter numpy pandas scipy`"
   ]
  },
  {
   "cell_type": "markdown",
   "metadata": {},
   "source": [
    "# Using this or similar notebooks\n",
    "\n",
    "Download this notebook and associated files from github:\n",
    "\n",
    "https://github.com/chalmerlowe/bokeh_tutorial\n",
    "\n",
    "Unzip the content if necessary.\n",
    "\n",
    "Run Jupyter Notebook using the `jupyter notebook` command from within the `graphstuff` folder:\n",
    "\n",
    "`(graphs) jarvis:graphstuff tonystark$ jupyter notebook`\n",
    "\n",
    "Which should open a dashboard in your brower showing the content of your virtual environment.\n"
   ]
  },
  {
   "cell_type": "markdown",
   "metadata": {},
   "source": [
    "<h2 style=\"color:red\">DON'T DO THIS YET:</h2> \n",
    "### How to leave the virtualenv when you are done for the day.\n",
    "\n",
    "When you are <span style=\"color:red\">**done**</span> working in your virtualenv, you can deactivate it using the following command.\n",
    "\n",
    "For now, **<span style=\"color:blue\">leave your virtualenv active</span>** so we can proceed together.\n",
    "\n",
    "### Linux\\Mac OSX version\n",
    "\n",
    "```bash\n",
    "(graphs) $ source deactivate\n",
    "```\n",
    "\n",
    "### Windows version\n",
    "\n",
    "```bat\n",
    "(graphs) C:\\> deactivate\n",
    "```"
   ]
  },
  {
   "cell_type": "markdown",
   "metadata": {},
   "source": [
    "# Bokeh, where we came from\n",
    "---"
   ]
  },
  {
   "cell_type": "markdown",
   "metadata": {},
   "source": [
    "## The history of bokeh"
   ]
  },
  {
   "cell_type": "markdown",
   "metadata": {},
   "source": [
    "Photographers use the Japanese word “bokeh” to describe the blurring of the out-of-focus parts of an image.\n",
    "\n",
    "Its aesthetic quality can greatly enhance a photograph, and photographers artfully use focus to draw attention to subjects of interest. \n",
    "\n",
    "“Good bokeh” contributes visual interest to a photograph and places its subjects in context. \n",
    "\n",
    "The `bokeh` library was so named because it allows users the flexibility to focus on the most important data without losing track of the rich context that allows it to be understood.\n",
    "\n",
    "<br>\n",
    "<div style=\"text-align: right\">Source: http://bokehplots.com/pages/technical-vision.html</div>"
   ]
  },
  {
   "cell_type": "markdown",
   "metadata": {},
   "source": [
    "## The philosophy of bokeh"
   ]
  },
  {
   "cell_type": "markdown",
   "metadata": {},
   "source": [
    "### How do we look at all the data?\n",
    "\n",
    "What are the best perceptual approaches to honestly and accurately represent the data to domain experts and SMEs so they can apply their intuition to the data?\n",
    "\n",
    "Are there automated approaches to accurately reduce large datasets so that outliers and anomalies are still visible, while we meaningfully represent baselines and backgrounds? How can we do this without “washing away” all the interesting bits during a naive downsampling?\n",
    "\n",
    "If we treat the pixels and topology of pixels on a screen as a bottleneck in the I/O channel between hard drives and an analyst’s visual cortex, what are the best compression techniques at all levels of the data transformation pipeline?\n",
    "\n",
    "### How can scientists and data analysts be empowered to use visualization fluidly, not merely as an output facility or one stage of a pipeline, but as an entire mode of engagement with data and models?\n",
    "\n",
    "Are language-based approaches for expressing mathematical modeling and data transformations the best way to compose novel interactive graphics?\n",
    "\n",
    "What data-oriented interactions (besides mere linked brushing/selection) are useful for fluid, visually-enable analysis?\n",
    "\n",
    "One guiding principle for the development of our visualization tools is to provide useful software for people, while incorporating novel ideas from the academic world of visualization research. Additionally, as modular and open-source projects, we hope that Bokeh [...] will enable many other projects to build a rich suite of domain-specific applications that change existing, legacy paradigms of data processing workflow.\n",
    "\n",
    "<br>\n",
    "<div style=\"text-align: right\">Source: http://bokehplots.com/pages/technical-vision.html</div>"
   ]
  },
  {
   "cell_type": "markdown",
   "metadata": {},
   "source": [
    "## The two faces of bokeh"
   ]
  },
  {
   "cell_type": "markdown",
   "metadata": {},
   "source": [
    "Bokeh has two primary means of use: on a server and in the browser.\n",
    "\n",
    "### Client-based visualizations\n",
    "Bokeh also creates standalone visualizations viewable in browsers with no use of the Bokeh server. These plots have many interactive tools and features, such as panning, brushing, hover, etc.\n",
    "\n",
    "### Server-based apps\n",
    "The Bokeh server provides an environment where data can be updated and manipulated such that it can then update the visualization and where the user interface and selection processes can trigger visual updates."
   ]
  },
  {
   "cell_type": "markdown",
   "metadata": {},
   "source": [
    "# Picture this, your first basic graph\n",
    "---"
   ]
  },
  {
   "cell_type": "markdown",
   "metadata": {},
   "source": [
    "## Creating a basic graph"
   ]
  },
  {
   "cell_type": "code",
   "execution_count": null,
   "metadata": {},
   "outputs": [],
   "source": [
    "from bokeh.plotting import figure, show, output_notebook\n",
    "\n",
    "x_values = [0, 1, 2, 3, 4, 5, 6]\n",
    "y_values = [0.0, 1.0, 1.4, 1.7, 2.0, 2.2, 2.4]\n",
    "\n",
    "p = figure()\n",
    "\n",
    "p.line(x_values, y_values)\n",
    "\n",
    "output_notebook()\n",
    "show(p)"
   ]
  },
  {
   "cell_type": "markdown",
   "metadata": {},
   "source": [
    "## How does all that work?\n",
    "\n",
    "Bokeh is designed such that high-level objects that go into your model (like glyphs, axes, plots, etc) are created in Python and then converted to JSON format. BokehJS uses this to create the visualizations which are rendered in javascript for display by the browser.\n",
    "\n",
    "The limitation to the display of large quantities of data is effectively: the browser and its ability to handle large amounts of data.\n",
    "\n",
    "In the second half of the workshop, we will look at using the Bokeh Server to get around this.\n"
   ]
  },
  {
   "cell_type": "markdown",
   "metadata": {},
   "source": [
    "## Getting help"
   ]
  },
  {
   "cell_type": "markdown",
   "metadata": {
    "collapsed": true
   },
   "source": [
    "```\n",
    "p? \n",
    "\n",
    "OR\n",
    "\n",
    "help(p)\n",
    "```"
   ]
  },
  {
   "cell_type": "markdown",
   "metadata": {},
   "source": [
    "## Don't know what functions are available?"
   ]
  },
  {
   "cell_type": "markdown",
   "metadata": {
    "collapsed": true
   },
   "source": [
    "\n",
    "`p.<tab-complete>`"
   ]
  },
  {
   "cell_type": "markdown",
   "metadata": {},
   "source": [
    "## Want insight into what a particular function can do?"
   ]
  },
  {
   "cell_type": "markdown",
   "metadata": {
    "collapsed": true
   },
   "source": [
    "\n",
    "`p.line?`"
   ]
  },
  {
   "cell_type": "markdown",
   "metadata": {},
   "source": [
    "## Let's do it again, but moar!"
   ]
  },
  {
   "cell_type": "code",
   "execution_count": null,
   "metadata": {
    "collapsed": true
   },
   "outputs": [],
   "source": [
    "from bokeh.plotting import figure, show, output_notebook\n",
    "from math import sqrt\n",
    "\n",
    "x_values = range(100)                        # figures can handle range objects...\n",
    "y_values = [sqrt(num) for num in x_values]\n",
    "\n",
    "p = figure()\n",
    "p.line(x_values, y_values)\n",
    "\n",
    "output_notebook()\n",
    "show(p)"
   ]
  },
  {
   "cell_type": "markdown",
   "metadata": {},
   "source": [
    "## Even moar!"
   ]
  },
  {
   "cell_type": "code",
   "execution_count": null,
   "metadata": {},
   "outputs": [],
   "source": [
    "from bokeh.plotting import figure, show, output_file, output_notebook\n",
    "import numpy as np\n",
    "\n",
    "moar = figure()\n",
    "\n",
    "x = np.linspace(0.1, 5, 100)\n",
    "y = x\n",
    "\n",
    "# Let's use circular markers and a dotted and dashed line\n",
    "\n",
    "moar.circle(x, y, legend=\"y=x\")\n",
    "moar.line(x, np.sqrt(x), legend=\"y=sqrt(x)\", line_color=\"#663399\", line_dash=\"dotdash\")\n",
    "\n",
    "# And add a legend built off the legend attributes of each item\n",
    "\n",
    "moar.legend.location = \"top_left\"\n",
    "\n",
    "output_notebook()\n",
    "show(moar)"
   ]
  },
  {
   "cell_type": "markdown",
   "metadata": {},
   "source": [
    "# Colors:\n",
    "\n",
    "* any of the 147 named CSS colors, e.g 'green', 'indigo'\n",
    "* an RGB(A) hex value, e.g., '#FF0000', '#44444444'\n",
    "* a 3-tuple of integers (r,g,b) between 0 and 255\n",
    "* a 4-tuple of (r,g,b,a) where r, g, b are integers between 0 and 255 and a is a floating point value between 0 and 1\n",
    "\n",
    "# What colors?\n",
    "[https://en.wikipedia.org/wiki/Web_colors](https://en.wikipedia.org/wiki/Web_colors)\n",
    "\n",
    "\n"
   ]
  },
  {
   "cell_type": "markdown",
   "metadata": {},
   "source": [
    "# Moarest! adding multiple features to a basic graph"
   ]
  },
  {
   "cell_type": "code",
   "execution_count": null,
   "metadata": {},
   "outputs": [],
   "source": [
    "from bokeh.plotting import figure, show, output_file, output_notebook\n",
    "import numpy as np\n",
    "\n",
    "x = np.linspace(0.1, 5, 100)\n",
    "y = x\n",
    "\n",
    "# Add a title and define the type of y-axis, include the range of values for the y-axis\n",
    "\n",
    "p = figure(title=\"log axis example\", y_axis_type=\"log\", y_range=(0.001, 10**22))\n",
    "\n",
    "p.circle(x, y, legend=\"y=x\")\n",
    "p.line(x, np.sqrt(x), legend=\"y=sqrt(x)\", line_color='red', line_dash=\"dotdash\")\n",
    "\n",
    "# Set the fill color for our circles to None\n",
    "\n",
    "p.circle(x, x**2, legend=\"y=x**2\", fill_color=None, line_color=\"olivedrab\")"
   ]
  },
  {
   "cell_type": "code",
   "execution_count": null,
   "metadata": {},
   "outputs": [],
   "source": [
    "# increase the line width to 4\n",
    "\n",
    "p.line(x, 10**x, legend=\"y=10^x\", line_color=\"gold\", line_width=4)"
   ]
  },
  {
   "cell_type": "code",
   "execution_count": null,
   "metadata": {},
   "outputs": [],
   "source": [
    "# Add a line composed of diamonds\n",
    "# Use hex this time to color the line\n",
    "\n",
    "p.diamond(x, 10**(x**2), legend=\"y=10^(x^2)\",\n",
    "       line_color=\"#663399\", line_dash=\"solid\", line_width=4)\n",
    "\n",
    "# Move the legend location\n",
    "# Change the legend font\n",
    "\n",
    "p.legend.location = \"center_left\"\n",
    "p.legend.label_text_font='times'\n",
    "\n",
    "# Change characteristics of the title text (color, font, font-style)\n",
    "\n",
    "p.title.text_color = \"olive\"\n",
    "p.title.text_font = \"times\"\n",
    "p.title.text_font_style = \"italic\"\n",
    "\n",
    "# Set the background color\n",
    "\n",
    "p.background_fill_color = \"whitesmoke\"\n",
    "\n",
    "output_notebook()\n",
    "show(p)"
   ]
  },
  {
   "cell_type": "code",
   "execution_count": null,
   "metadata": {},
   "outputs": [],
   "source": [
    "help(p.diamond)"
   ]
  },
  {
   "cell_type": "code",
   "execution_count": null,
   "metadata": {},
   "outputs": [],
   "source": [
    "from bokeh.palettes import Purples\n",
    "\n",
    "# Purples is a dictionary indexed by integer...\n",
    "# for example:\n",
    "# Purples[5] >>> ['#54278f', '#756bb1', '#9e9ac8', '#cbc9e2', '#f2f0f7']\n",
    "\n",
    "p.line(x, np.sqrt(x) * 100, legend=\"y=sqrt(x)\", line_color=Purples[5][1], line_dash=\"dotdash\")\n",
    "show(p)"
   ]
  },
  {
   "cell_type": "markdown",
   "metadata": {},
   "source": [
    "# Break (5 minutes)\n",
    "---"
   ]
  },
  {
   "cell_type": "markdown",
   "metadata": {},
   "source": [
    "# Top 5 fun and entertaining plots\n",
    "---"
   ]
  },
  {
   "cell_type": "markdown",
   "metadata": {},
   "source": [
    "Next, we will take a look at five sample plots include many diverse examples of how bokeh can be used for awesome data visualizations.\n",
    "   0. scatterplot\n",
    "   1. histogram with pdf and cdf curves\n",
    "   2. graph with interactive sliders to set parameters\n",
    "   3. visualization tools: pan, zoom, hover, crosshairs, lasso select, box select, poly select, save, undo, redo, tap\n",
    "   4. geographical map\n",
    " \n",
    "\n",
    "This material is based largely upon the sample graphs shown here:\n",
    "http://bokeh.pydata.org/en/latest/docs/gallery.html\n",
    " "
   ]
  },
  {
   "cell_type": "markdown",
   "metadata": {
    "collapsed": true
   },
   "source": [
    "## Sample data for your amusement is available:\n"
   ]
  },
  {
   "cell_type": "markdown",
   "metadata": {
    "collapsed": true
   },
   "source": [
    "\n",
    "Bokeh comes preinstalled with various types of sample data: look in the site-packages folder found in your virtual environment folder...\n",
    "\n",
    "`<path_to_where_you_installed_miniconda>/miniconda3/envs/bokeh_tut/lib/python3.5/site-packages/bokeh/sampledata/`\n",
    "\n",
    "Bokeh provides ready access to some of the smaller datasets via import, as we will see.\n",
    "Other larger datasets will need to be downloaded using:\n",
    "\n",
    "`bokeh.sampledata.download()`\n"
   ]
  },
  {
   "cell_type": "markdown",
   "metadata": {},
   "source": [
    "## Simple scatterplot\n",
    "---\n",
    "\n",
    "<img src='./images/220px-Iris_versicolor_3.jpg' height='250' width='300' style=\"float:right\">"
   ]
  },
  {
   "cell_type": "code",
   "execution_count": null,
   "metadata": {},
   "outputs": [],
   "source": [
    "# Let's start by importing some of the data\n",
    "\n",
    "from bokeh.plotting import figure, show, output_notebook\n",
    "from bokeh.sampledata.iris import flowers\n",
    "\n",
    "# When flowers is imported, it comes in as a pandas DataFrame\n",
    "# DataFrames have a function called sample, that will let us see a representative\n",
    "#     sample of all the data... let's look at 10 rows.\n",
    "\n",
    "flowers.sample(10)"
   ]
  },
  {
   "cell_type": "code",
   "execution_count": null,
   "metadata": {},
   "outputs": [],
   "source": [
    "# Next, we will prep some enrichments that we can apply to our flower data\n",
    "# We want to map the species of iris to a color so we create a dict.\n",
    "\n",
    "colormap = {'setosa': 'red', 'versicolor': 'green', 'virginica': 'blue'}\n",
    "\n",
    "# Then we create a list of colors... one color for each row in the flowers DataFrame.\n",
    "# Based on the species in the species column, we insert the appropriate color.\n",
    "\n",
    "colors = [colormap[x] for x in flowers['species']]\n",
    "\n",
    "# To see the results of our work, let's look at a sampling of the colors list.\n",
    "\n",
    "colors[::10]"
   ]
  },
  {
   "cell_type": "code",
   "execution_count": null,
   "metadata": {},
   "outputs": [],
   "source": [
    "\n",
    "p = figure(title = \"Iris Morphology\")\n",
    "p.xaxis.axis_label = 'Petal Length'\n",
    "p.yaxis.axis_label = 'Petal Width'\n",
    "\n",
    "p.circle(flowers[\"petal_length\"], flowers[\"petal_width\"],\n",
    "         color=colors, fill_alpha=0.2, size=10)\n",
    "\n",
    "output_file(\"iris.html\", title=\"iris.py example\")\n",
    "output_notebook()\n",
    "show(p)\n",
    "\n",
    "# http://bokeh.pydata.org/en/latest/docs/gallery/iris.html"
   ]
  },
  {
   "cell_type": "markdown",
   "metadata": {},
   "source": [
    "### Workflow:\n",
    "\n",
    "As we look at the remaining examples, and as you create your own, a generic, but useful workflow is listed below. Following a workflow such as this, helps you to focus on one task at a time and create robust and easy to understand scripts.\n",
    "\n",
    "1. Import libraries\n",
    "1. Generate a figure\n",
    "1. Create or load data and enrichments\n",
    "1. Generate glyphs\n",
    "1. Add attributes, annotations, interactions\n",
    "1. Create outputs\n",
    "\n",
    "**NOTES**:\n",
    "\n",
    "* You may not need some steps in the above workflow, especially for barebones charts.\n",
    "* Conversely, your charts may be very sophisticated and you may need to expand on the above workflow. \n",
    "* This is intended as a starting point. \n",
    "* YMMV!\n"
   ]
  },
  {
   "cell_type": "markdown",
   "metadata": {},
   "source": [
    "## Histogram: with pdf and cdf curves"
   ]
  },
  {
   "cell_type": "code",
   "execution_count": null,
   "metadata": {
    "collapsed": true
   },
   "outputs": [],
   "source": [
    "# IMPORTS ---------------------------------------\n",
    "\n",
    "import numpy as np\n",
    "import scipy.special\n",
    "\n",
    "from bokeh.layouts import gridplot\n",
    "from bokeh.plotting import figure, show, output_file, output_notebook"
   ]
  },
  {
   "cell_type": "code",
   "execution_count": null,
   "metadata": {},
   "outputs": [],
   "source": [
    "# GENERATE FIGURE -----------------------------------------\n",
    "\n",
    "p1 = figure(title=\"Normal Distribution (μ=0, σ=0.5)\",tools=\"save\",\n",
    "            background_fill_color=\"whitesmoke\")\n",
    "p1"
   ]
  },
  {
   "cell_type": "code",
   "execution_count": null,
   "metadata": {},
   "outputs": [],
   "source": [
    "# CREATE OR LOAD DATA/ENRICHMENTS -------------------------\n",
    "\n",
    "# set the midpoint and spread of the data\n",
    "mu, sigma = 0, 0.5\n",
    "\n",
    "# draw a 1000 random samples from a normal distribution \n",
    "measured = np.random.normal(mu, sigma, 1000)\n",
    "\n",
    "# compute the histogram of a set of data.\n",
    "hist, edges = np.histogram(measured, density=True, bins=50)\n",
    "\n",
    "# create the x values: 1000 values between -2 and 2\n",
    "x = np.linspace(-2, 2, 1000)\n",
    "\n",
    "# calculate the points for a pdf and a cdf based on:\n",
    "#     * mu\n",
    "#     * sigma\n",
    "#     * the values of x\n",
    "pdf = 1/(sigma * np.sqrt(2*np.pi)) * np.exp(-(x-mu)**2 / (2*sigma**2))\n",
    "cdf = (1+scipy.special.erf((x-mu)/np.sqrt(2*sigma**2)))/2\n",
    "\n",
    "print('MEASURED: ', measured[:10])\n",
    "print()\n",
    "print('HIST: ', hist[:10])\n",
    "print()\n",
    "print('EDGES: ', edges[:10])\n",
    "print()\n",
    "print('-' * 60)\n",
    "print('PDF: ', pdf[:10])\n",
    "print()\n",
    "print('CDF: ', cdf[:10])\n"
   ]
  },
  {
   "cell_type": "code",
   "execution_count": null,
   "metadata": {},
   "outputs": [],
   "source": [
    "# GENERATE GLYPHS -----------------------------------------\n",
    "\n",
    "p1.quad(top=hist, bottom=0, left=edges[:-1], right=edges[1:],\n",
    "        fill_color='yellow', alpha=0.9, line_color=\"orange\")\n",
    "p1.line(x, pdf, line_color=\"black\", line_width=3, alpha=0.7, legend=\"PDF\")\n",
    "p1.line(x, cdf, line_color=\"red\", line_width=2, alpha=0.7, legend=\"CDF\")"
   ]
  },
  {
   "cell_type": "code",
   "execution_count": null,
   "metadata": {
    "collapsed": true
   },
   "outputs": [],
   "source": [
    "# ADD ATTRIBUTES, ANNOTATIONS, INTERACTIONS ---------------\n",
    "\n",
    "p1.legend.location = \"top_left\"\n",
    "p1.xaxis.axis_label = 'x'\n",
    "p1.yaxis.axis_label = 'Pr(x)'"
   ]
  },
  {
   "cell_type": "code",
   "execution_count": null,
   "metadata": {},
   "outputs": [],
   "source": [
    "# CREATE OUTPUTS ------------------------------------------\n",
    "output_notebook()\n",
    "show(p1)\n",
    "\n",
    "# http://bokeh.pydata.org/en/latest/docs/gallery/histogram.html"
   ]
  },
  {
   "cell_type": "markdown",
   "metadata": {},
   "source": [
    "## Using interactive sliders"
   ]
  },
  {
   "cell_type": "code",
   "execution_count": null,
   "metadata": {
    "collapsed": true
   },
   "outputs": [],
   "source": [
    "# IMPORTS -------------------------------------------------\n",
    "\n",
    "import numpy as np\n",
    "\n",
    "from bokeh.layouts import row, widgetbox\n",
    "\n",
    "from bokeh.models import CustomJS, Slider\n",
    "\n",
    "from bokeh.plotting import figure, output_file, output_notebook, show, ColumnDataSource"
   ]
  },
  {
   "cell_type": "code",
   "execution_count": null,
   "metadata": {
    "collapsed": true
   },
   "outputs": [],
   "source": [
    "# GENERATE FIGURE -----------------------------------------\n",
    "plot = figure(y_range=(-10, 10), plot_width=400, plot_height=400)"
   ]
  },
  {
   "cell_type": "code",
   "execution_count": null,
   "metadata": {
    "collapsed": true
   },
   "outputs": [],
   "source": [
    "# CREATE OR LOAD DATA/ENRICHMENTS -------------------------\n",
    "x = np.linspace(0, 10, 500)\n",
    "y = np.sin(x)\n",
    "source = ColumnDataSource(data=dict(x=x, y=y))"
   ]
  },
  {
   "cell_type": "code",
   "execution_count": null,
   "metadata": {},
   "outputs": [],
   "source": [
    "# GENERATE GLYPHS -----------------------------------------\n",
    "plot.line('x', 'y', source=source, line_width=3, line_alpha=0.6)"
   ]
  },
  {
   "cell_type": "code",
   "execution_count": null,
   "metadata": {
    "collapsed": true
   },
   "outputs": [],
   "source": [
    "# ADD ATTRIBUTES, ANNOTATIONS, INTERACTIONS ---------------\n",
    "callback = CustomJS(args=dict(source=source), code=\"\"\"\n",
    "    var data = source.data;\n",
    "    var A = amp.value;\n",
    "    var k = freq.value;\n",
    "    var phi = phase.value;\n",
    "    var B = offset.value;\n",
    "    x = data['x']\n",
    "    y = data['y']\n",
    "    for (i = 0; i < x.length; i++) {\n",
    "        y[i] = B + A*Math.sin(k*x[i]+phi);\n",
    "    }\n",
    "    source.trigger('change');\n",
    "\"\"\")\n",
    "\n",
    "amp_slider = Slider(start=0.1, end=10, value=1, step=.1,\n",
    "                    title=\"Amplitude\", callback=callback)\n",
    "callback.args[\"amp\"] = amp_slider\n",
    "\n",
    "freq_slider = Slider(start=0.1, end=10, value=1, step=.1,\n",
    "                     title=\"Frequency\", callback=callback)\n",
    "callback.args[\"freq\"] = freq_slider\n",
    "\n",
    "phase_slider = Slider(start=0, end=6.4, value=0, step=.1,\n",
    "                      title=\"Phase\", callback=callback)\n",
    "callback.args[\"phase\"] = phase_slider\n",
    "\n",
    "offset_slider = Slider(start=-5, end=5, value=0, step=.1,\n",
    "                       title=\"Offset\", callback=callback)\n",
    "callback.args[\"offset\"] = offset_slider\n",
    "\n",
    "layout = row(\n",
    "    plot,\n",
    "    widgetbox(amp_slider, freq_slider, phase_slider, offset_slider),\n",
    ")"
   ]
  },
  {
   "cell_type": "code",
   "execution_count": null,
   "metadata": {
    "collapsed": true
   },
   "outputs": [],
   "source": [
    "# CREATE OUTPUTS ------------------------------------------\n",
    "output_notebook()\n",
    "show(layout)\n",
    "\n",
    "# http://bokeh.pydata.org/en/latest/docs/gallery/slider.html"
   ]
  },
  {
   "cell_type": "markdown",
   "metadata": {},
   "source": [
    "## Using visualization tools"
   ]
  },
  {
   "cell_type": "code",
   "execution_count": null,
   "metadata": {
    "collapsed": true
   },
   "outputs": [],
   "source": [
    "# IMPORTS -------------------------------------------------\n",
    "\n",
    "import numpy as np\n",
    "from bokeh.plotting import figure, show, output_file, output_notebook"
   ]
  },
  {
   "cell_type": "code",
   "execution_count": null,
   "metadata": {
    "collapsed": true
   },
   "outputs": [],
   "source": [
    "# CREATE OR LOAD DATA/ENRICHMENTS -------------------------\n",
    "\n",
    "number = 4000\n",
    "x = np.random.random(size=number) * 100\n",
    "y = np.random.random(size=number) * 100\n",
    "\n",
    "radii = np.random.random(size=number) * 1.5\n",
    "colors = [\"#%02x%02x%02x\" % (int(r), int(g), 150) for r, g in zip(50+2*x, 30+2*y)]"
   ]
  },
  {
   "cell_type": "code",
   "execution_count": null,
   "metadata": {},
   "outputs": [],
   "source": [
    "# GENERATE FIGURE -----------------------------------------\n",
    "\n",
    "TOOLS=\"hover,crosshair,pan,wheel_zoom,zoom_in,zoom_out,box_zoom,undo,redo,reset,tap,save,box_select,poly_select,lasso_select,\"\n",
    "\n",
    "p = figure(tools=TOOLS)\n",
    "\n",
    "# GENERATE GLYPHS -----------------------------------------\n",
    "\n",
    "p.scatter(x, y, radius=radii,\n",
    "          fill_color=colors, fill_alpha=0.6,\n",
    "          line_color=None)\n",
    "\n",
    "\n",
    "# CREATE OUTPUTS ------------------------------------------\n",
    "\n",
    "output_file(\"color_scatter.html\", title=\"color_scatter.py example\")\n",
    "output_notebook()\n",
    "show(p)  # open a browser\n",
    "\n",
    "# http://bokeh.pydata.org/en/latest/docs/gallery/color_scatter.html"
   ]
  },
  {
   "cell_type": "markdown",
   "metadata": {},
   "source": [
    "## Geographical map"
   ]
  },
  {
   "cell_type": "raw",
   "metadata": {},
   "source": [
    "# IMPORTS -------------------------------------------------\n",
    "# GENERATE FIGURE -----------------------------------------\n",
    "# CREATE OR LOAD DATA/ENRICHMENTS -------------------------\n",
    "# GENERATE GLYPHS -----------------------------------------\n",
    "# ADD ATTRIBUTES, ANNOTATIONS, INTERACTIONS ---------------\n",
    "# CREATE OUTPUTS ------------------------------------------\n"
   ]
  },
  {
   "cell_type": "code",
   "execution_count": null,
   "metadata": {},
   "outputs": [],
   "source": [
    "from bokeh.io import show\n",
    "from bokeh.models import (\n",
    "    ColumnDataSource,\n",
    "    HoverTool,\n",
    "    LogColorMapper\n",
    ")\n",
    "from bokeh.palettes import Viridis6 as palette\n",
    "from bokeh.plotting import figure, output_notebook\n",
    "\n",
    "from bokeh.sampledata.us_counties import data as counties\n",
    "from bokeh.sampledata.unemployment import data as unemployment\n",
    "\n",
    "palette.reverse()\n",
    "\n",
    "counties = {\n",
    "    code: county for code, county in counties.items() if county[\"state\"] == \"tx\"\n",
    "}\n",
    "\n",
    "county_xs = [county[\"lons\"] for county in counties.values()]\n",
    "county_ys = [county[\"lats\"] for county in counties.values()]\n",
    "\n",
    "county_names = [county['name'] for county in counties.values()]\n",
    "county_rates = [unemployment[county_id] for county_id in counties]\n",
    "color_mapper = LogColorMapper(palette=palette)\n",
    "\n",
    "source = ColumnDataSource(data=dict(\n",
    "    x=county_xs,\n",
    "    y=county_ys,\n",
    "    name=county_names,\n",
    "    rate=county_rates,\n",
    "))\n",
    "\n",
    "TOOLS = \"pan,wheel_zoom,box_zoom,reset,hover,save\"\n",
    "\n",
    "texas = figure(\n",
    "    title=\"Texas Unemployment, 2009\", tools=TOOLS,\n",
    "    x_axis_location=None, y_axis_location=None\n",
    ")\n",
    "texas.grid.grid_line_color = None\n",
    "\n",
    "texas.patches('x', 'y', source=source,\n",
    "          fill_color={'field': 'rate', 'transform': color_mapper},\n",
    "          fill_alpha=0.7, line_color=\"white\", line_width=0.5)\n",
    "\n",
    "hover = p.select_one(HoverTool)\n",
    "hover.point_policy = \"follow_mouse\"\n",
    "hover.tooltips = [\n",
    "    (\"Name\", \"@name\"),\n",
    "    (\"Unemployment rate)\", \"@rate%\"),\n",
    "    (\"(Long, Lat)\", \"($x, $y)\"),\n",
    "]\n",
    "\n",
    "output_notebook()\n",
    "show(texas)\n",
    "\n",
    "# http://bokeh.pydata.org/en/latest/docs/gallery/texas.html"
   ]
  },
  {
   "cell_type": "markdown",
   "metadata": {},
   "source": [
    "# Wait, what? Why doesn't that work?\n",
    "---"
   ]
  },
  {
   "cell_type": "markdown",
   "metadata": {},
   "source": [
    "Sometimes, things just don't work out..."
   ]
  },
  {
   "cell_type": "markdown",
   "metadata": {},
   "source": [
    "## So what happens if I execute certain cells multiple times?\n",
    "\n",
    "It depends...\n",
    "\n",
    "If you execute a cell that produces different data and stores it as a glyph, you might write additional unwanted data to your chart."
   ]
  },
  {
   "cell_type": "code",
   "execution_count": null,
   "metadata": {},
   "outputs": [],
   "source": [
    "from bokeh.plotting import figure, show, output_notebook\n",
    "import numpy as np\n",
    "\n",
    "p = figure()"
   ]
  },
  {
   "cell_type": "code",
   "execution_count": null,
   "metadata": {},
   "outputs": [],
   "source": [
    "x_values = [0, 1, 2, 3, 4, 5, 6]\n",
    "y_values = np.random.randint(1, 20, 7)\n",
    "\n",
    "p.line(x_values, y_values)\n"
   ]
  },
  {
   "cell_type": "code",
   "execution_count": null,
   "metadata": {},
   "outputs": [],
   "source": [
    "output_notebook()\n",
    "show(p)"
   ]
  },
  {
   "cell_type": "markdown",
   "metadata": {},
   "source": [
    "# refresh running servers\n",
    "\n",
    "Yeah... this got wonky. \n",
    "\n",
    "Let me tell you what happened.\n",
    "\n",
    "Never figured out why"
   ]
  },
  {
   "cell_type": "markdown",
   "metadata": {},
   "source": [
    "# running code for servers\n",
    "\n",
    "This took an inordinate amount of time to figure out."
   ]
  },
  {
   "cell_type": "markdown",
   "metadata": {},
   "source": [
    "# output_file() you're killing me\n",
    "\n",
    "Upon running output_file() once in the notebook, other examples reused that reference and output files...\n",
    "\n",
    "**OVERWRITING** what I had already produced."
   ]
  },
  {
   "cell_type": "markdown",
   "metadata": {},
   "source": [
    "# Break (10 minutes)\n",
    "---"
   ]
  },
  {
   "cell_type": "markdown",
   "metadata": {},
   "source": [
    "# Bokeh server app\n",
    "---"
   ]
  },
  {
   "cell_type": "markdown",
   "metadata": {},
   "source": [
    "We briefly mentioned one of the major donwsides to the client-side version of Bokeh: limitations within the browser in terms of how much data can be handled at any given time.\n",
    "\n",
    "Bokeh Server attempts to get past that enabling the browser and the data to be sync'ed more effectively:\n",
    " \n",
    "\n",
    "* **Event response**: respond to UI and tool events generated in a browser with computations or queries using the full power of Python\n",
    "* **Server-side updates**: automatically push server-side updates to the UI (i.e. widgets or plots in a browser)\n",
    "* **Streaming updates** use periodic, timeout, and asynchronous callbacks to drive streaming updates"
   ]
  },
  {
   "cell_type": "markdown",
   "metadata": {},
   "source": [
    "Several flavors of use for the Bokeh Server:\n",
    "\n",
    "* local / individual use\n",
    "* deployable application\n",
    "\n",
    "Our focus will be on local and individual use. This should get you pointed in the right direction should you want to create a deployable application.\n",
    "\n",
    "\n",
    "\n"
   ]
  },
  {
   "cell_type": "markdown",
   "metadata": {},
   "source": [
    "## Bokeh Server stock example\n",
    "\n",
    "We will start off by standing up a Bokeh Server that produces visualizations focused on stock exchange data\n",
    "\n",
    "* Prep your environment\n",
    "* Download the data\n",
    "* Generate the code\n",
    "* Run the server\n"
   ]
  },
  {
   "cell_type": "markdown",
   "metadata": {},
   "source": [
    "### Prep  your environment\n",
    "\n",
    "#### Linux/Mac\n",
    "```bash\n",
    "mkdir bserver\n",
    "cd bserver\n",
    "conda create -n bserver python=3\n",
    "source activate graphs\n",
    "conda install bokeh jupyter ipython pandas\n",
    "```\n",
    "\n",
    "#### WIndows\n",
    "```bash\n",
    "mkdir bserver\n",
    "cd bserver\n",
    "conda create -n bserver python=3\n",
    "activate graphs\n",
    "conda install bokeh jupyter ipython pandas\n",
    "```"
   ]
  },
  {
   "cell_type": "markdown",
   "metadata": {},
   "source": [
    "### Download the data\n",
    "\n",
    "1. Navigate to the Bokeh github site: https://github.com/bokeh/bokeh <img src='./images/github_download.png' height='1000' width='600' style='float:right'>\n",
    "1. Click on the **Clone or Downland** button\n",
    "1. Click on the **Download Zip** button \n",
    "1. Save the file to your `bserver` folder\n",
    "1. Unzip the file, if necessary\n",
    "1. Type the following on the command line to download the datafiles for the **STOCKS** application:\n",
    "   1. `cd bokeh-master/examples/app/stocks/`\n",
    "   1. `python download_sample_data.py`\n"
   ]
  },
  {
   "cell_type": "markdown",
   "metadata": {},
   "source": [
    "## Create the code\n",
    "\n",
    "In this case, we will be reviewing the code that is already present in the stocks folder. We will look at the code here in the notebook book, but to access it directly, you can open the `main.py` file from the stocks folder in your text editor."
   ]
  },
  {
   "cell_type": "markdown",
   "metadata": {},
   "source": [
    "\n",
    "## HEADER --------------------------------------------------\n",
    "```\n",
    "''' Create a simple stocks correlation dashboard.\n",
    "\n",
    "Choose stocks to compare in the drop down widgets, and make selections\n",
    "on the plots to update the summary and histograms accordingly.\n",
    "\n",
    ".. note::\n",
    "    Running this example requires downloading sample data. See\n",
    "    the included `README`_ for more information.\n",
    "\n",
    "Use the ``bokeh serve`` command to run the example by executing:\n",
    "\n",
    "    bokeh serve stocks\n",
    "\n",
    "at your command prompt. Then navigate to the URL\n",
    "\n",
    "    http://localhost:5006/stocks\n",
    "\n",
    ".. _README: https://github.com/bokeh/bokeh/blob/master/examples/app/stocks/README.md\n",
    "\n",
    "'''\n",
    "```"
   ]
  },
  {
   "cell_type": "markdown",
   "metadata": {},
   "source": [
    "\n",
    "## IMPORTS -------------------------------------------------\n",
    "```\n",
    "try:\n",
    "    from functools import lru_cache\n",
    "except ImportError:\n",
    "    # Python 2 does stdlib does not have lru_cache so let's just\n",
    "    # create a dummy decorator to avoid crashing\n",
    "    print (\"WARNING: Cache for this example is available on Python 3 only.\")\n",
    "    def lru_cache():\n",
    "        def dec(f):\n",
    "            def _(*args, **kws):\n",
    "                return f(*args, **kws)\n",
    "            return _\n",
    "        return dec\n",
    "\n",
    "from os.path import dirname, join\n",
    "\n",
    "import pandas as pd\n",
    "\n",
    "from bokeh.io import curdoc\n",
    "from bokeh.layouts import row, column\n",
    "from bokeh.models import ColumnDataSource\n",
    "from bokeh.models.widgets import PreText, Select\n",
    "from bokeh.plotting import figure\n",
    "\n",
    "```"
   ]
  },
  {
   "cell_type": "markdown",
   "metadata": {},
   "source": [
    "\n",
    "## CREATE OR LOAD DATA/ENRICHMENTS -------------------------\n",
    "```\n",
    "DATA_DIR = join(dirname(__file__), 'daily')\n",
    "\n",
    "DEFAULT_TICKERS = ['AAPL', 'GOOG', 'INTC', 'BRCM', 'YHOO']\n",
    "\n",
    "def nix(val, lst):\n",
    "    return [x for x in lst if x != val]\n",
    "\n",
    "@lru_cache()\n",
    "def load_ticker(ticker):\n",
    "    fname = join(DATA_DIR, 'table_%s.csv' % ticker.lower())\n",
    "    data = pd.read_csv(fname, header=None, parse_dates=['date'],\n",
    "                       names=['date', 'foo', 'o', 'h', 'l', 'c', 'v'])\n",
    "    data = data.set_index('date')\n",
    "    return pd.DataFrame({ticker: data.c, ticker+'_returns': data.c.diff()})\n",
    "\n",
    "@lru_cache()\n",
    "def get_data(t1, t2):\n",
    "    df1 = load_ticker(t1)\n",
    "    df2 = load_ticker(t2)\n",
    "    data = pd.concat([df1, df2], axis=1)\n",
    "    data = data.dropna()\n",
    "    data['t1'] = data[t1]\n",
    "    data['t2'] = data[t2]\n",
    "    data['t1_returns'] = data[t1+'_returns']\n",
    "    data['t2_returns'] = data[t2+'_returns']\n",
    "    return data\n",
    "\n",
    "# set up widgets\n",
    "\n",
    "stats = PreText(text='', width=500)\n",
    "ticker1 = Select(value='AAPL', options=nix('GOOG', DEFAULT_TICKERS))\n",
    "ticker2 = Select(value='GOOG', options=nix('AAPL', DEFAULT_TICKERS))\n",
    "\n",
    "# set up plots\n",
    "\n",
    "source = ColumnDataSource(data=dict(date=[], t1=[], t2=[], t1_returns=[], t2_returns=[]))\n",
    "source_static = ColumnDataSource(data=dict(date=[], t1=[], t2=[], t1_returns=[], t2_returns=[]))\n",
    "tools = 'pan,wheel_zoom,xbox_select,reset'\n",
    "\n",
    "```"
   ]
  },
  {
   "cell_type": "markdown",
   "metadata": {},
   "source": [
    "\n",
    "## GENERATE FIGURE -----------------------------------------\n",
    "```\n",
    "corr = figure(plot_width=350, plot_height=350,\n",
    "              tools='pan,wheel_zoom,box_select,reset')\n",
    "```\n",
    "## GENERATE GLYPHS -----------------------------------------\n",
    "```\n",
    "corr.circle('t1_returns', 't2_returns', size=2, source=source,\n",
    "            selection_color=\"orange\", alpha=0.6, nonselection_alpha=0.1, selection_alpha=0.4)\n",
    "```\n",
    "## GENERATE FIGURE -----------------------------------------\n",
    "```\n",
    "ts1 = figure(plot_width=900, plot_height=200, tools=tools, x_axis_type='datetime', active_drag=\"xbox_select\")\n",
    "```\n",
    "## GENERATE GLYPHS -----------------------------------------\n",
    "```\n",
    "ts1.line('date', 't1', source=source_static)\n",
    "ts1.circle('date', 't1', size=1, source=source, color=None, selection_color=\"orange\")\n",
    "```\n",
    "## GENERATE FIGURE -----------------------------------------\n",
    "```\n",
    "ts2 = figure(plot_width=900, plot_height=200, tools=tools, x_axis_type='datetime', active_drag=\"xbox_select\")\n",
    "ts2.x_range = ts1.x_range\n",
    "```\n",
    "## GENERATE GLYPHS -----------------------------------------\n",
    "```\n",
    "ts2.line('date', 't2', source=source_static)\n",
    "ts2.circle('date', 't2', size=1, source=source, color=None, selection_color=\"orange\")\n",
    "\n",
    "```"
   ]
  },
  {
   "cell_type": "markdown",
   "metadata": {},
   "source": [
    "\n",
    "## ADD ATTRIBUTES, ANNOTATIONS, INTERACTIONS ---------------\n",
    "```\n",
    "# set up callbacks\n",
    "\n",
    "def ticker1_change(attrname, old, new):\n",
    "    ticker2.options = nix(new, DEFAULT_TICKERS)\n",
    "    update()\n",
    "\n",
    "def ticker2_change(attrname, old, new):\n",
    "    ticker1.options = nix(new, DEFAULT_TICKERS)\n",
    "    update()\n",
    "\n",
    "def update(selected=None):\n",
    "    t1, t2 = ticker1.value, ticker2.value\n",
    "\n",
    "    data = get_data(t1, t2)\n",
    "    source.data = source.from_df(data[['t1', 't2', 't1_returns', 't2_returns']])\n",
    "    source_static.data = source.data\n",
    "\n",
    "    update_stats(data, t1, t2)\n",
    "\n",
    "    corr.title.text = '%s returns vs. %s returns' % (t1, t2)\n",
    "    ts1.title.text, ts2.title.text = t1, t2\n",
    "\n",
    "def update_stats(data, t1, t2):\n",
    "    stats.text = str(data[[t1, t2, t1+'_returns', t2+'_returns']].describe())\n",
    "\n",
    "ticker1.on_change('value', ticker1_change)\n",
    "ticker2.on_change('value', ticker2_change)\n",
    "\n",
    "def selection_change(attrname, old, new):\n",
    "    t1, t2 = ticker1.value, ticker2.value\n",
    "    data = get_data(t1, t2)\n",
    "    selected = source.selected['1d']['indices']\n",
    "    if selected:\n",
    "        data = data.iloc[selected, :]\n",
    "    update_stats(data, t1, t2)\n",
    "\n",
    "source.on_change('selected', selection_change)\n",
    "\n",
    "# set up layout\n",
    "\n",
    "widgets = column(ticker1, ticker2, stats)\n",
    "main_row = row(corr, widgets)\n",
    "series = column(ts1, ts2)\n",
    "layout = column(main_row, series)\n",
    "\n",
    "```"
   ]
  },
  {
   "cell_type": "markdown",
   "metadata": {},
   "source": [
    "## CREATE OUTPUTS ------------------------------------------\n",
    "```\n",
    "# initialize\n",
    "\n",
    "update()\n",
    "\n",
    "curdoc().add_root(layout)\n",
    "curdoc().title = \"Stocks\"\n",
    "\n",
    "```"
   ]
  },
  {
   "cell_type": "markdown",
   "metadata": {},
   "source": [
    "## Run the server"
   ]
  },
  {
   "cell_type": "markdown",
   "metadata": {},
   "source": [
    "From **within** the **stocks** folder, execute the following command from the command line:\n",
    "\n",
    "1. `bokeh serve --show .`"
   ]
  },
  {
   "cell_type": "markdown",
   "metadata": {},
   "source": [
    "# Charting your course\n",
    "---"
   ]
  },
  {
   "cell_type": "markdown",
   "metadata": {},
   "source": [
    "## So where do you go from here?\n",
    "\n",
    "\n",
    "1. Read the manual >> lots of good stuff in there\n",
    "1. Don't recreate the wheel >> reuse the sample graphs\n",
    "1. Make **graphs**, lots and lots of graphs!"
   ]
  },
  {
   "cell_type": "markdown",
   "metadata": {},
   "source": [
    "# But wait, there's more...\n",
    "---"
   ]
  },
  {
   "cell_type": "markdown",
   "metadata": {
    "collapsed": true
   },
   "source": [
    "## show off more cool examples from the gallery"
   ]
  },
  {
   "cell_type": "markdown",
   "metadata": {},
   "source": [
    "# Resources"
   ]
  },
  {
   "cell_type": "markdown",
   "metadata": {
    "collapsed": true
   },
   "source": [
    "## Bokeh\n",
    "\n",
    "1. The Manual: http://bokeh.pydata.org/en/latest/docs/user_guide.html\n",
    "1. The Gallery: http://bokeh.pydata.org/en/latest/docs/gallery.html\n",
    "1. The Notebook Gallery: http://nbviewer.jupyter.org/github/bokeh/bokeh-notebooks/blob/master/index.ipynb\n",
    "1. Bokeh github: https://github.com/bokeh/bokeh\n",
    "1. Visual Attributes: http://bokeh.pydata.org/en/latest/docs/user_guide/styling.html\n",
    "\n",
    "## Conda\n",
    "\n",
    "1. The Manual: https://conda.io/docs/\n",
    "1. Conda myths and misconceptions: https://jakevdp.github.io/blog/2016/08/25/conda-myths-and-misconceptions/\n",
    "\n",
    "\n",
    "## Jupyter Notebooks\n",
    "\n",
    "1. The Manual: https://jupyter.readthedocs.io/en/latest/index.html"
   ]
  },
  {
   "cell_type": "code",
   "execution_count": null,
   "metadata": {
    "collapsed": true
   },
   "outputs": [],
   "source": []
  }
 ],
 "metadata": {
  "anaconda-cloud": {},
  "celltoolbar": "Slideshow",
  "kernelspec": {
   "display_name": "Python 3",
   "language": "python",
   "name": "python3"
  },
  "language_info": {
   "codemirror_mode": {
    "name": "ipython",
    "version": 3
   },
   "file_extension": ".py",
   "mimetype": "text/x-python",
   "name": "python",
   "nbconvert_exporter": "python",
   "pygments_lexer": "ipython3",
   "version": "3.5.2"
  }
 },
 "nbformat": 4,
 "nbformat_minor": 2
}
