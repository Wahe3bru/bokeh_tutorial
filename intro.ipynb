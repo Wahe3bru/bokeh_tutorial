{
 "cells": [
  {
   "cell_type": "markdown",
   "metadata": {},
   "source": [
    "# Introduction to bokeh\n",
    "\n",
    "<img src='./images/logos.3.600.wide.png' height='250' width='300' style=\"float:right\">"
   ]
  },
  {
   "cell_type": "markdown",
   "metadata": {},
   "source": [
    "# Who am I? Who are you? What is bokeh?\n",
    "---"
   ]
  },
  {
   "cell_type": "markdown",
   "metadata": {},
   "source": [
    "### Me...\n",
    "* Chalmer Lowe\n",
    "* @chalmer_lowe\n",
    "* chalmer@darkartofcoding.com\n",
    "\n",
    "\n",
    "### What I do...\n",
    "* Founder: Dark Art of Coding\n",
    "* Founder: PyHawaii\n",
    "* Senior Computer Scientist: Booz Allen Hamilton\n",
    "* Chair/Co-Chair: Pycon Education Summit\n",
    "* Introduction to Sprinting guy"
   ]
  },
  {
   "cell_type": "markdown",
   "metadata": {},
   "source": [
    "## Tell me about yourselves...\n",
    "\n",
    "* Your background with:\n",
    "  * Python\n",
    "  * Visualization libraries like matplotlib, seaborn, bokeh\n",
    "* What would you like to visualize with bokeh?\n"
   ]
  },
  {
   "cell_type": "markdown",
   "metadata": {},
   "source": [
    "\"Bokeh is a Python interactive visualization library that targets modern web browsers for presentation. Its goal is to provide elegant, concise construction of novel graphics in the style of D3.js, and to extend this capability with high-performance interactivity over very large or streaming datasets. Bokeh can help anyone who would like to quickly and easily create interactive plots, dashboards, and data applications.\"\n",
    "\n",
    "<br>\n",
    "<div style=\"text-align: right\">Source: http://bokeh.pydata.org/en/latest/</div>"
   ]
  },
  {
   "cell_type": "markdown",
   "metadata": {},
   "source": [
    "# Today's agenda\n",
    "---"
   ]
  },
  {
   "cell_type": "markdown",
   "metadata": {},
   "source": [
    "* Install bokeh and other pertinent libraries\n",
    "* The history of bokeh\n",
    "* Your first basic graph\n",
    "\n",
    "    Break (5 mins) -------------------------------------------\n",
    "\n",
    "\n",
    "* Top 5 fun and entertaining plots\n",
    "* Wait, what? Why doesn't that work?\n",
    "\n",
    "    Break (5 mins) -------------------------------------------\n",
    "\n",
    "\n",
    "* Bokeh server app\n",
    "* Charting your course\n",
    "* But wait, there's more..."
   ]
  },
  {
   "cell_type": "markdown",
   "metadata": {},
   "source": [
    "## Navigation\n",
    "---\n",
    "\n",
    "| TOC | Next |\n",
    "|:-----|-----:|\n",
    "| <<< [Table of Contents](./README.md) | [Installation](./installation.ipynb) >>> |"
   ]
  }
 ],
 "metadata": {
  "anaconda-cloud": {},
  "celltoolbar": "Slideshow",
  "kernelspec": {
   "display_name": "Python 3",
   "language": "python",
   "name": "python3"
  },
  "language_info": {
   "codemirror_mode": {
    "name": "ipython",
    "version": 3
   },
   "file_extension": ".py",
   "mimetype": "text/x-python",
   "name": "python",
   "nbconvert_exporter": "python",
   "pygments_lexer": "ipython3",
   "version": "3.5.2"
  }
 },
 "nbformat": 4,
 "nbformat_minor": 2
}
