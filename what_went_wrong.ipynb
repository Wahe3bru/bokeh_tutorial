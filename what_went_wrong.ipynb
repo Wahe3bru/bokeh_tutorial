{
 "cells": [
  {
   "cell_type": "markdown",
   "metadata": {},
   "source": [
    "# Introduction to bokeh\n",
    "\n",
    "## Wait, what? Why doesn't that work?\n",
    "---\n",
    "\n",
    "<img src='./images/logos.3.600.wide.png' height='250' width='300' style=\"float:right\">"
   ]
  },
  {
   "cell_type": "markdown",
   "metadata": {},
   "source": [
    "Sometimes, things just don't work out..."
   ]
  },
  {
   "cell_type": "markdown",
   "metadata": {},
   "source": [
    "# Some functions don't have help docstrings builtin, yet.\n",
    "\n",
    "1. Read the Manual\n",
    "1. `google` for it\n",
    "1. Post a question to `stackoverflow.com`\n",
    "1. Publish an issue to the bokeh github account\n",
    "1. Create a fix, yourself AND get your fifteen minutes of fame."
   ]
  },
  {
   "cell_type": "markdown",
   "metadata": {},
   "source": [
    "# So what happens if I execute certain cells multiple times?\n",
    "\n",
    "It depends...\n",
    "\n",
    "Sometimes doing your science requires multiple iterations and you might be tempted to tweak a cell and `show()` results, tweak a cell and `show()` the results, etc...\n",
    "\n",
    "Unless you reset the figure (i.e. create a blank slate) you may not get what you want.\n",
    "\n",
    "When you execute a cell that produces glyphs, bokeh will start to accumulate the glyphs until you call `show()` again. Which means you may have multiple overlapping glyphs."
   ]
  },
  {
   "cell_type": "code",
   "execution_count": null,
   "metadata": {
    "collapsed": true
   },
   "outputs": [],
   "source": [
    "from bokeh.plotting import figure, show, output_notebook\n",
    "import numpy as np\n",
    "from random import choice\n",
    "\n",
    "p = figure()"
   ]
  },
  {
   "cell_type": "markdown",
   "metadata": {},
   "source": [
    "# Experience Points:\n",
    "\n",
    "1. Run the following cell multiple times (i.e. five or six)\n",
    "1. Once you have run it, then proceed to the following cell to see your graph."
   ]
  },
  {
   "cell_type": "code",
   "execution_count": null,
   "metadata": {},
   "outputs": [],
   "source": [
    "\n",
    "\n",
    "color = choice(['red', 'green', 'blue', 'purple', 'black', 'orange', 'grey'])\n",
    "x_values = [0, 1, 2, 3, 4, 5, 6]\n",
    "y_values = np.random.randint(1, 20, 7)\n",
    "\n",
    "p.line(x_values, y_values, line_color=color)\n"
   ]
  },
  {
   "cell_type": "code",
   "execution_count": null,
   "metadata": {},
   "outputs": [],
   "source": [
    "output_notebook()\n",
    "show(p)"
   ]
  },
  {
   "cell_type": "markdown",
   "metadata": {},
   "source": [
    "# refresh running servers\n",
    "\n",
    "Yeah... this got wonky. \n",
    "\n",
    "Let me tell you what happened.\n",
    "\n",
    "Never figured out why"
   ]
  },
  {
   "cell_type": "markdown",
   "metadata": {},
   "source": [
    "# running code for servers\n",
    "\n",
    "This took an inordinate amount of time to figure out."
   ]
  },
  {
   "cell_type": "markdown",
   "metadata": {},
   "source": [
    "# output_file() you're killing me\n",
    "\n",
    "Upon running `output_file()` once in the notebook, other examples reused that reference and output files... especially if I was doing iterative development OR testing.\n",
    "\n",
    "Potentiallly **OVERWRITING** what I had already produced.\n",
    "\n",
    "Also: when running `output_file()` in Chrome, it opened in my default browser: Safari. \n"
   ]
  },
  {
   "cell_type": "code",
   "execution_count": null,
   "metadata": {},
   "outputs": [],
   "source": [
    "from bokeh.plotting import output_file\n",
    "\n",
    "output_file('myresults.html')\n",
    "show(p)"
   ]
  },
  {
   "cell_type": "code",
   "execution_count": null,
   "metadata": {},
   "outputs": [],
   "source": [
    "# On my machine, when I create a new figure()\n",
    "# and then attempt to show() the new figure...\n",
    "# It ALSO attempts to write to the file myresults.html,\n",
    "# overwriting my previous result.\n",
    "\n",
    "h = figure()\n",
    "show(h)"
   ]
  },
  {
   "cell_type": "markdown",
   "metadata": {},
   "source": [
    "## Navigation\n",
    "---\n",
    "\n",
    "| Previous | Up | Next |\n",
    "|:-----|:-----:|-----:|\n",
    "| <<< [Five Fun Examples](./five_fun.ipynb) |[Table of Contents](./README.md) | [Servers](./servers.ipynb) >>> |"
   ]
  }
 ],
 "metadata": {
  "anaconda-cloud": {},
  "celltoolbar": "Slideshow",
  "kernelspec": {
   "display_name": "Python 3",
   "language": "python",
   "name": "python3"
  },
  "language_info": {
   "codemirror_mode": {
    "name": "ipython",
    "version": 3
   },
   "file_extension": ".py",
   "mimetype": "text/x-python",
   "name": "python",
   "nbconvert_exporter": "python",
   "pygments_lexer": "ipython3",
   "version": "3.5.2"
  }
 },
 "nbformat": 4,
 "nbformat_minor": 2
}
