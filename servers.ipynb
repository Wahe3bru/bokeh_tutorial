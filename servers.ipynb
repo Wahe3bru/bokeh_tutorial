{
 "cells": [
  {
   "cell_type": "markdown",
   "metadata": {},
   "source": [
    "# Introduction to bokeh\n",
    "\n",
    "## Bokeh server app\n",
    "---\n",
    "\n",
    "<img src='./images/logos.3.600.wide.png' height='250' width='300' style=\"float:right\">"
   ]
  },
  {
   "cell_type": "markdown",
   "metadata": {},
   "source": [
    "We briefly mentioned one of the major donwsides to the client-side version of Bokeh: limitations within the browser in terms of how much data can be handled at any given time.\n",
    "\n",
    "Bokeh Server attempts to get past that enabling the browser and the data to be sync'ed more effectively:\n",
    " \n",
    "\n",
    "* **Event response**: respond to UI and tool events generated in a browser with computations or queries using the full power of Python\n",
    "* **Server-side updates**: automatically push server-side updates to the UI (i.e. widgets or plots in a browser)\n",
    "* **Streaming updates** use periodic, timeout, and asynchronous callbacks to drive streaming updates"
   ]
  },
  {
   "cell_type": "markdown",
   "metadata": {},
   "source": [
    "Several flavors of use for the Bokeh Server:\n",
    "\n",
    "* local / individual use\n",
    "* deployable application\n",
    "\n",
    "Our focus will be on local and individual use. This should get you pointed in the right direction should you want to create a deployable application.\n",
    "\n",
    "\n",
    "\n"
   ]
  },
  {
   "cell_type": "markdown",
   "metadata": {},
   "source": [
    "# Bokeh Server stock example\n",
    "\n",
    "We will start off by standing up a Bokeh Server that produces visualizations focused on stock exchange data\n",
    "\n",
    "* Prep your environment\n",
    "* Download the data\n",
    "* Generate the code\n",
    "* Run the server\n"
   ]
  },
  {
   "cell_type": "markdown",
   "metadata": {},
   "source": [
    "## Prep  your environment\n",
    "\n",
    "### Linux/Mac\n",
    "```bash\n",
    "mkdir bserver\n",
    "cd bserver\n",
    "conda create -n bserver python=3\n",
    "source activate bserver\n",
    "conda install bokeh jupyter ipython pandas\n",
    "```\n",
    "\n",
    "### WIndows\n",
    "```bash\n",
    "mkdir bserver\n",
    "cd bserver\n",
    "conda create -n bserver python=3\n",
    "activate bserver\n",
    "conda install bokeh jupyter ipython pandas\n",
    "```"
   ]
  },
  {
   "cell_type": "markdown",
   "metadata": {},
   "source": [
    "## Download the data\n",
    "\n",
    "1. Navigate to the Bokeh github site: https://github.com/bokeh/bokeh <img src='./images/github_download.png' height='1000' width='600' style='float:right'>\n",
    "1. Click on the **Clone or Downland** button\n",
    "1. Click on the **Download Zip** button \n",
    "1. Save the file to your `bserver` folder\n",
    "1. Unzip the file, if necessary\n",
    "1. Type the following on the command line to download the datafiles for the **STOCKS** application:\n",
    "   1. `cd bokeh-master/examples/app/stocks/`\n",
    "   1. `python download_sample_data.py`\n"
   ]
  },
  {
   "cell_type": "markdown",
   "metadata": {},
   "source": [
    "## Create the code\n",
    "\n",
    "In this case, we will be reviewing the code that is already present in the stocks folder. We will look at the code here in the notebook book, but to access it directly, you can open the `main.py` file from the stocks folder in your text editor."
   ]
  },
  {
   "cell_type": "markdown",
   "metadata": {},
   "source": [
    "\n",
    "### HEADER --------------------------------------------------\n",
    "```\n",
    "''' Create a simple stocks correlation dashboard.\n",
    "\n",
    "Choose stocks to compare in the drop down widgets, and make selections\n",
    "on the plots to update the summary and histograms accordingly.\n",
    "\n",
    ".. note::\n",
    "    Running this example requires downloading sample data. See\n",
    "    the included `README`_ for more information.\n",
    "\n",
    "Use the ``bokeh serve`` command to run the example by executing:\n",
    "\n",
    "    bokeh serve stocks\n",
    "\n",
    "at your command prompt. Then navigate to the URL\n",
    "\n",
    "    http://localhost:5006/stocks\n",
    "\n",
    ".. _README: https://github.com/bokeh/bokeh/blob/master/examples/app/stocks/README.md\n",
    "\n",
    "'''\n",
    "```"
   ]
  },
  {
   "cell_type": "markdown",
   "metadata": {},
   "source": [
    "\n",
    "### IMPORTS -------------------------------------------------\n",
    "```\n",
    "try:\n",
    "    from functools import lru_cache\n",
    "except ImportError:\n",
    "    # Python 2 does stdlib does not have lru_cache so let's just\n",
    "    # create a dummy decorator to avoid crashing\n",
    "    print (\"WARNING: Cache for this example is available on Python 3 only.\")\n",
    "    def lru_cache():\n",
    "        def dec(f):\n",
    "            def _(*args, **kws):\n",
    "                return f(*args, **kws)\n",
    "            return _\n",
    "        return dec\n",
    "\n",
    "from os.path import dirname, join\n",
    "\n",
    "import pandas as pd\n",
    "\n",
    "from bokeh.io import curdoc\n",
    "from bokeh.layouts import row, column\n",
    "from bokeh.models import ColumnDataSource\n",
    "from bokeh.models.widgets import PreText, Select\n",
    "from bokeh.plotting import figure\n",
    "\n",
    "```"
   ]
  },
  {
   "cell_type": "markdown",
   "metadata": {},
   "source": [
    "\n",
    "### CREATE OR LOAD DATA/ENRICHMENTS -------------------------\n",
    "```\n",
    "DATA_DIR = join(dirname(__file__), 'daily')\n",
    "\n",
    "DEFAULT_TICKERS = ['AAPL', 'GOOG', 'INTC', 'BRCM', 'YHOO']\n",
    "\n",
    "def nix(val, lst):\n",
    "    return [x for x in lst if x != val]\n",
    "\n",
    "@lru_cache()\n",
    "def load_ticker(ticker):\n",
    "    fname = join(DATA_DIR, 'table_%s.csv' % ticker.lower())\n",
    "    data = pd.read_csv(fname, header=None, parse_dates=['date'],\n",
    "                       names=['date', 'foo', 'o', 'h', 'l', 'c', 'v'])\n",
    "    data = data.set_index('date')\n",
    "    return pd.DataFrame({ticker: data.c, ticker+'_returns': data.c.diff()})\n",
    "\n",
    "@lru_cache()\n",
    "def get_data(t1, t2):\n",
    "    df1 = load_ticker(t1)\n",
    "    df2 = load_ticker(t2)\n",
    "    data = pd.concat([df1, df2], axis=1)\n",
    "    data = data.dropna()\n",
    "    data['t1'] = data[t1]\n",
    "    data['t2'] = data[t2]\n",
    "    data['t1_returns'] = data[t1+'_returns']\n",
    "    data['t2_returns'] = data[t2+'_returns']\n",
    "    return data\n",
    "\n",
    "# set up widgets\n",
    "\n",
    "stats = PreText(text='', width=500)\n",
    "ticker1 = Select(value='AAPL', options=nix('GOOG', DEFAULT_TICKERS))\n",
    "ticker2 = Select(value='GOOG', options=nix('AAPL', DEFAULT_TICKERS))\n",
    "\n",
    "# set up plots\n",
    "\n",
    "source = ColumnDataSource(data=dict(date=[], t1=[], t2=[], t1_returns=[], t2_returns=[]))\n",
    "source_static = ColumnDataSource(data=dict(date=[], t1=[], t2=[], t1_returns=[], t2_returns=[]))\n",
    "tools = 'pan,wheel_zoom,xbox_select,reset'\n",
    "\n",
    "```"
   ]
  },
  {
   "cell_type": "markdown",
   "metadata": {},
   "source": [
    "\n",
    "### GENERATE FIGURE -----------------------------------------\n",
    "```\n",
    "corr = figure(plot_width=350, plot_height=350,\n",
    "              tools='pan,wheel_zoom,box_select,reset')\n",
    "```\n",
    "### GENERATE GLYPHS -----------------------------------------\n",
    "```\n",
    "corr.circle('t1_returns', 't2_returns', size=2, source=source,\n",
    "            selection_color=\"orange\", alpha=0.6, nonselection_alpha=0.1, selection_alpha=0.4)\n",
    "```\n",
    "### GENERATE FIGURE -----------------------------------------\n",
    "```\n",
    "ts1 = figure(plot_width=900, plot_height=200, tools=tools, x_axis_type='datetime', active_drag=\"xbox_select\")\n",
    "```\n",
    "### GENERATE GLYPHS -----------------------------------------\n",
    "```\n",
    "ts1.line('date', 't1', source=source_static)\n",
    "ts1.circle('date', 't1', size=1, source=source, color=None, selection_color=\"orange\")\n",
    "```\n",
    "### GENERATE FIGURE -----------------------------------------\n",
    "```\n",
    "ts2 = figure(plot_width=900, plot_height=200, tools=tools, x_axis_type='datetime', active_drag=\"xbox_select\")\n",
    "ts2.x_range = ts1.x_range\n",
    "```\n",
    "### GENERATE GLYPHS -----------------------------------------\n",
    "```\n",
    "ts2.line('date', 't2', source=source_static)\n",
    "ts2.circle('date', 't2', size=1, source=source, color=None, selection_color=\"orange\")\n",
    "\n",
    "```"
   ]
  },
  {
   "cell_type": "markdown",
   "metadata": {},
   "source": [
    "\n",
    "### ADD ATTRIBUTES, ANNOTATIONS, INTERACTIONS ---------------\n",
    "```\n",
    "# set up callbacks\n",
    "\n",
    "def ticker1_change(attrname, old, new):\n",
    "    ticker2.options = nix(new, DEFAULT_TICKERS)\n",
    "    update()\n",
    "\n",
    "def ticker2_change(attrname, old, new):\n",
    "    ticker1.options = nix(new, DEFAULT_TICKERS)\n",
    "    update()\n",
    "\n",
    "def update(selected=None):\n",
    "    t1, t2 = ticker1.value, ticker2.value\n",
    "\n",
    "    data = get_data(t1, t2)\n",
    "    source.data = source.from_df(data[['t1', 't2', 't1_returns', 't2_returns']])\n",
    "    source_static.data = source.data\n",
    "\n",
    "    update_stats(data, t1, t2)\n",
    "\n",
    "    corr.title.text = '%s returns vs. %s returns' % (t1, t2)\n",
    "    ts1.title.text, ts2.title.text = t1, t2\n",
    "\n",
    "def update_stats(data, t1, t2):\n",
    "    stats.text = str(data[[t1, t2, t1+'_returns', t2+'_returns']].describe())\n",
    "\n",
    "ticker1.on_change('value', ticker1_change)\n",
    "ticker2.on_change('value', ticker2_change)\n",
    "\n",
    "def selection_change(attrname, old, new):\n",
    "    t1, t2 = ticker1.value, ticker2.value\n",
    "    data = get_data(t1, t2)\n",
    "    selected = source.selected['1d']['indices']\n",
    "    if selected:\n",
    "        data = data.iloc[selected, :]\n",
    "    update_stats(data, t1, t2)\n",
    "\n",
    "source.on_change('selected', selection_change)\n",
    "\n",
    "# set up layout\n",
    "\n",
    "widgets = column(ticker1, ticker2, stats)\n",
    "main_row = row(corr, widgets)\n",
    "series = column(ts1, ts2)\n",
    "layout = column(main_row, series)\n",
    "\n",
    "```"
   ]
  },
  {
   "cell_type": "markdown",
   "metadata": {},
   "source": [
    "### CREATE OUTPUTS ------------------------------------------\n",
    "```\n",
    "# initialize\n",
    "\n",
    "update()\n",
    "\n",
    "curdoc().add_root(layout)\n",
    "curdoc().title = \"Stocks\"\n",
    "\n",
    "```"
   ]
  },
  {
   "cell_type": "markdown",
   "metadata": {},
   "source": [
    "## Run the server"
   ]
  },
  {
   "cell_type": "markdown",
   "metadata": {},
   "source": [
    "From **within** the **stocks** folder, execute the following command from the command line:\n",
    "\n",
    "1. `bokeh serve --show .`"
   ]
  },
  {
   "cell_type": "markdown",
   "metadata": {},
   "source": [
    "## Navigation\n",
    "---\n",
    "\n",
    "| Previous | Next |\n",
    "|:----|-----:|\n",
    "| <<< [History](history.ipynb) | [XXX](./xxx.ipynb) >>> |"
   ]
  }
 ],
 "metadata": {
  "anaconda-cloud": {},
  "celltoolbar": "Slideshow",
  "kernelspec": {
   "display_name": "Python 3",
   "language": "python",
   "name": "python3"
  },
  "language_info": {
   "codemirror_mode": {
    "name": "ipython",
    "version": 3
   },
   "file_extension": ".py",
   "mimetype": "text/x-python",
   "name": "python",
   "nbconvert_exporter": "python",
   "pygments_lexer": "ipython3",
   "version": "3.5.2"
  }
 },
 "nbformat": 4,
 "nbformat_minor": 2
}
