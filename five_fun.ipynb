{
 "cells": [
  {
   "cell_type": "markdown",
   "metadata": {},
   "source": [
    "# Introduction to bokeh\n",
    "\n",
    "## Top 5 fun and entertaining plots\n",
    "---\n",
    "\n",
    "<img src='./images/logos.3.600.wide.png' height='250' width='300' style=\"float:right\">"
   ]
  },
  {
   "cell_type": "markdown",
   "metadata": {},
   "source": [
    "Next, we will take a look at five sample plots include many diverse examples of how bokeh can be used for awesome data visualizations.\n",
    "   0. **scatterplot**\n",
    "   1. **histogram** with pdf and cdf curves\n",
    "   2. graph with **interactive sliders** to set parameters\n",
    "   3. **visualization tools**: pan, zoom, hover, crosshairs, lasso select, box select, poly select, save, undo, redo, tap\n",
    "   4. **geographical map**\n",
    " \n",
    "\n",
    "This material is based largely upon the sample graphs shown here:\n",
    "http://bokeh.pydata.org/en/latest/docs/gallery.html\n",
    " "
   ]
  },
  {
   "cell_type": "markdown",
   "metadata": {
    "collapsed": true
   },
   "source": [
    "# Sample data for your amusement is available:\n"
   ]
  },
  {
   "cell_type": "markdown",
   "metadata": {
    "collapsed": true
   },
   "source": [
    "\n",
    "Bokeh comes preinstalled with various types of sample data: look in the site-packages folder found in your virtual environment folder...\n",
    "\n",
    "`<path_to_where_you_installed_miniconda>/miniconda3/envs/bokeh_tut/lib/python3.5/site-packages/bokeh/sampledata/`\n",
    "\n",
    "Bokeh provides ready access to some of the smaller datasets via import, as we will see.\n",
    "\n",
    "There are other much larger datasets available as well, that we will be using and will get later, using: \n",
    "\n",
    "`bokeh.sampledata.download()`\n"
   ]
  },
  {
   "cell_type": "markdown",
   "metadata": {},
   "source": [
    "# Simple scatterplot\n",
    "---\n",
    "\n",
    "<img src='./images/220px-Iris_versicolor_3.jpg' height='250' width='300' style=\"float:right\">"
   ]
  },
  {
   "cell_type": "code",
   "execution_count": null,
   "metadata": {},
   "outputs": [],
   "source": [
    "# Let's start by importing some of the data\n",
    "\n",
    "from bokeh.plotting import figure, show, output_notebook\n",
    "from bokeh.sampledata.iris import flowers\n",
    "\n",
    "# When flowers is imported, it comes in as a pandas DataFrame\n",
    "# DataFrames have a function called sample, that will let us see a representative\n",
    "#     sample of all the data... let's look at 10 rows.\n",
    "\n",
    "print(type(flowers))\n",
    "print(len(flowers))\n",
    "flowers.sample(10)\n"
   ]
  },
  {
   "cell_type": "code",
   "execution_count": null,
   "metadata": {},
   "outputs": [],
   "source": [
    "# Next, we will prep some enrichments that we can apply to our flower data\n",
    "# We want to map the species of iris to a color so we create a dict.\n",
    "\n",
    "colormap = {'setosa': 'red',\n",
    "            'versicolor': 'green',\n",
    "            'virginica': 'blue'}\n",
    "\n",
    "# Then we create a list of colors... one color for each row in the flowers DataFrame.\n",
    "# Based on the species in the species column, we insert the appropriate color\n",
    "# into our list.\n",
    "\n",
    "colors = [colormap[x] for x in flowers['species']]\n",
    "\n",
    "# To see the results of our work, let's look at a sampling of the colors list.\n",
    "\n",
    "print(len(colors))\n",
    "colors[::10]"
   ]
  },
  {
   "cell_type": "code",
   "execution_count": null,
   "metadata": {},
   "outputs": [],
   "source": [
    "\n",
    "p = figure(title = \"Iris Morphology\")\n",
    "\n",
    "p.xaxis.axis_label = 'Petal Length'\n",
    "p.yaxis.axis_label = 'Petal Width'\n",
    "\n",
    "p.circle(flowers[\"petal_length\"],      # x values\n",
    "         flowers[\"petal_width\"],       # y values\n",
    "         color=colors, \n",
    "         fill_alpha=0.2, \n",
    "         size=10)"
   ]
  },
  {
   "cell_type": "code",
   "execution_count": null,
   "metadata": {},
   "outputs": [],
   "source": [
    "output_notebook()\n",
    "show(p)\n",
    "\n",
    "# http://bokeh.pydata.org/en/latest/docs/gallery/iris.html"
   ]
  },
  {
   "cell_type": "markdown",
   "metadata": {},
   "source": [
    "# Workflow\n",
    "---"
   ]
  },
  {
   "cell_type": "markdown",
   "metadata": {},
   "source": [
    "As we look at the remaining examples, and as you create your own, a generic, but useful workflow is listed below. Following a workflow such as this, helps you to focus on one task at a time and create robust and easy to understand scripts.\n",
    "\n",
    "1. Import libraries\n",
    "1. Generate a figure\n",
    "1. Create or load data and enrichments\n",
    "1. Generate glyphs\n",
    "1. Add attributes, annotations, interactions\n",
    "1. Create outputs\n",
    "\n",
    "**NOTES**:\n",
    "\n",
    "* You may not need some steps in the above workflow, especially for barebones charts.\n",
    "* Conversely, your charts may be very sophisticated and you may need to expand on the above workflow. \n",
    "* This is intended as a starting point. \n",
    "* Your mileage may vary (YMMV)!\n"
   ]
  },
  {
   "cell_type": "markdown",
   "metadata": {},
   "source": [
    "# Histogram: with pdf and cdf curves\n",
    "---"
   ]
  },
  {
   "cell_type": "code",
   "execution_count": null,
   "metadata": {
    "collapsed": true
   },
   "outputs": [],
   "source": [
    "# IMPORTS ---------------------------------------\n",
    "\n",
    "import numpy as np\n",
    "import scipy.special\n",
    "\n",
    "from bokeh.layouts import gridplot\n",
    "from bokeh.plotting import figure, show, output_notebook"
   ]
  },
  {
   "cell_type": "code",
   "execution_count": null,
   "metadata": {},
   "outputs": [],
   "source": [
    "# GENERATE FIGURE -----------------------------------------\n",
    "\n",
    "h = figure(title=\"Normal Distribution (μ=0, σ=0.5)\",\n",
    "            tools=\"save\",\n",
    "            background_fill_color=\"whitesmoke\")\n",
    "\n",
    "# Notice this creates a figure() object\n",
    "\n",
    "h"
   ]
  },
  {
   "cell_type": "markdown",
   "metadata": {
    "collapsed": true
   },
   "source": [
    "```\n",
    "h?\n",
    "```\n",
    "\n",
    "versus\n",
    "\n",
    "```\n",
    "h??\n",
    "```"
   ]
  },
  {
   "cell_type": "code",
   "execution_count": null,
   "metadata": {
    "collapsed": true
   },
   "outputs": [],
   "source": []
  },
  {
   "cell_type": "code",
   "execution_count": null,
   "metadata": {},
   "outputs": [],
   "source": [
    "# CREATE OR LOAD DATA/ENRICHMENTS -------------------------\n",
    "\n",
    "# set the midpoint and spread of the data\n",
    "mu, sigma = 0, 0.5\n",
    "\n",
    "# draw a 1000 random samples from a normal distribution \n",
    "measured = np.random.normal(mu, sigma, 1000)\n",
    "\n",
    "# compute the histogram of a set of data.\n",
    "#     hist is an array of the y-values of the histogram points\n",
    "#     edges is an array of the 'sides' of the rectangles as \n",
    "#     defined across the x-axis\n",
    "hist, edges = np.histogram(measured, density=True, bins=50)\n",
    "\n",
    "# create an array of x-values: 1000 values between -2 and 2\n",
    "x = np.linspace(-2, 2, 1000)\n",
    "\n",
    "# calculate the points for a pdf and a cdf based on:\n",
    "#     * mu\n",
    "#     * sigma\n",
    "#     * the values of x\n",
    "pdf = 1/(sigma * np.sqrt(2*np.pi)) * np.exp(-(x-mu)**2 / (2*sigma**2))\n",
    "cdf = (1+scipy.special.erf((x-mu)/np.sqrt(2*sigma**2)))/2\n",
    "\n",
    "print('MEASURED: ', measured[:10])\n",
    "print()\n",
    "print('HIST: ', len(hist), hist[:10])\n",
    "print()\n",
    "print('EDGES: ', len(edges), edges[:10])\n",
    "print()\n",
    "print('-' * 60, end='\\n\\n')\n",
    "print('PDF: ', pdf[:10])\n",
    "print()\n",
    "print('CDF: ', cdf[:10])\n"
   ]
  },
  {
   "cell_type": "markdown",
   "metadata": {},
   "source": [
    "# Experience Points\n",
    "---"
   ]
  },
  {
   "cell_type": "markdown",
   "metadata": {},
   "source": [
    "1. In the code cell below, use `?` to explore the `quad()` function assocated with the figure `h`\n",
    "1. What is the default fill_color?\n",
    "1. What does the characteristic `alpha` do?\n",
    "1. How does `alpha` contrast with `line_alpha`?"
   ]
  },
  {
   "cell_type": "code",
   "execution_count": null,
   "metadata": {
    "collapsed": true
   },
   "outputs": [],
   "source": [
    "# Let's look into the quad() method of our figure:\n",
    "\n"
   ]
  },
  {
   "cell_type": "code",
   "execution_count": null,
   "metadata": {},
   "outputs": [],
   "source": [
    "# GENERATE GLYPHS -----------------------------------------\n",
    "\n",
    "h.quad(top=hist,\n",
    "       bottom=0,\n",
    "       left=edges[:-1],\n",
    "       right=edges[1:],\n",
    "       fill_color='yellow', alpha=0.9, line_color=\"orange\")\n"
   ]
  },
  {
   "cell_type": "code",
   "execution_count": null,
   "metadata": {},
   "outputs": [],
   "source": [
    "# GENERATE GLYPHS (cont.)-----------------------------------\n",
    "\n",
    "h.line(x, pdf, line_color=\"black\", line_width=3, alpha=0.7, legend=\"PDF\")\n",
    "h.line(x, cdf, line_color=\"red\", line_width=2, alpha=0.7, legend=\"CDF\")"
   ]
  },
  {
   "cell_type": "code",
   "execution_count": null,
   "metadata": {
    "collapsed": true
   },
   "outputs": [],
   "source": [
    "# ADD ATTRIBUTES, ANNOTATIONS, INTERACTIONS ---------------\n",
    "\n",
    "h.legend.location = \"top_left\"\n",
    "h.xaxis.axis_label = 'x'\n",
    "h.yaxis.axis_label = 'Pr(x)'"
   ]
  },
  {
   "cell_type": "code",
   "execution_count": null,
   "metadata": {},
   "outputs": [],
   "source": [
    "# CREATE OUTPUTS ------------------------------------------\n",
    "output_notebook()\n",
    "show(h)\n",
    "\n",
    "# http://bokeh.pydata.org/en/latest/docs/gallery/histogram.html"
   ]
  },
  {
   "cell_type": "markdown",
   "metadata": {},
   "source": [
    "# Using interactive sliders\n",
    "---"
   ]
  },
  {
   "cell_type": "code",
   "execution_count": null,
   "metadata": {
    "collapsed": true
   },
   "outputs": [],
   "source": [
    "# IMPORTS -------------------------------------------------\n",
    "\n",
    "import numpy as np\n",
    "\n",
    "from bokeh.layouts import row, widgetbox\n",
    "\n",
    "from bokeh.models import CustomJS, Slider\n",
    "\n",
    "from bokeh.plotting import figure, output_notebook, show, ColumnDataSource"
   ]
  },
  {
   "cell_type": "markdown",
   "metadata": {},
   "source": [
    "# Experience Points\n",
    "---"
   ]
  },
  {
   "cell_type": "markdown",
   "metadata": {},
   "source": [
    "# Try to identify the purpose of these two functions:\n",
    "\n",
    "1. CustomJS\n",
    "1. Slider"
   ]
  },
  {
   "cell_type": "code",
   "execution_count": null,
   "metadata": {
    "collapsed": true
   },
   "outputs": [],
   "source": []
  },
  {
   "cell_type": "code",
   "execution_count": null,
   "metadata": {
    "collapsed": true
   },
   "outputs": [],
   "source": [
    "# GENERATE FIGURE -----------------------------------------\n",
    "plot = figure(y_range=(-10, 10), plot_width=400, plot_height=400)"
   ]
  },
  {
   "cell_type": "code",
   "execution_count": null,
   "metadata": {
    "collapsed": true
   },
   "outputs": [],
   "source": [
    "# CREATE OR LOAD DATA/ENRICHMENTS -------------------------\n",
    "x = np.linspace(0, 10, 500)\n",
    "y = np.sin(x)\n",
    "source = ColumnDataSource(data=dict(x=x, y=y))"
   ]
  },
  {
   "cell_type": "code",
   "execution_count": null,
   "metadata": {},
   "outputs": [],
   "source": [
    "# GENERATE GLYPHS -----------------------------------------\n",
    "plot.line('x', 'y', source=source, line_width=3, line_alpha=0.6)"
   ]
  },
  {
   "cell_type": "code",
   "execution_count": null,
   "metadata": {
    "collapsed": true
   },
   "outputs": [],
   "source": [
    "# ADD ATTRIBUTES, ANNOTATIONS, INTERACTIONS ---------------\n",
    "# I am not a javascript guru.\n",
    "# ... you are on your own in terms of making javascript\n",
    "\n",
    "\n",
    "callback = CustomJS(args=dict(source=source), code=\"\"\"\n",
    "    var data = source.data;\n",
    "    var A = amp.value;\n",
    "    x = data['x']\n",
    "    y = data['y']\n",
    "    for (i = 0; i < x.length; i++) {\n",
    "        y[i] = A*Math.sin(x[i]);\n",
    "    }\n",
    "    source.trigger('change');\n",
    "    \"\"\")\n",
    "\n",
    "amp_slider = Slider(start=0.1, end=10, value=1, step=.1,\n",
    "                    title=\"Amplitude\",\n",
    "                    callback=callback)\n",
    "\n",
    "callback.args[\"amp\"] = amp_slider\n",
    "\n",
    "layout = row(plot,\n",
    "             widgetbox(amp_slider))"
   ]
  },
  {
   "cell_type": "code",
   "execution_count": null,
   "metadata": {},
   "outputs": [],
   "source": [
    "# CREATE OUTPUTS ------------------------------------------\n",
    "output_notebook()\n",
    "show(layout)\n",
    "\n",
    "# http://bokeh.pydata.org/en/latest/docs/gallery/slider.html"
   ]
  },
  {
   "cell_type": "markdown",
   "metadata": {},
   "source": [
    "# Using visualization tools\n",
    "---"
   ]
  },
  {
   "cell_type": "code",
   "execution_count": null,
   "metadata": {
    "collapsed": true
   },
   "outputs": [],
   "source": [
    "# IMPORTS -------------------------------------------------\n",
    "\n",
    "import numpy as np\n",
    "from bokeh.plotting import figure, show, output_notebook"
   ]
  },
  {
   "cell_type": "code",
   "execution_count": null,
   "metadata": {
    "collapsed": true
   },
   "outputs": [],
   "source": [
    "# CREATE OR LOAD DATA/ENRICHMENTS -------------------------\n",
    "\n",
    "number = 4000\n",
    "x = np.random.random(size=number) * 100     # random yields [0.0, 1.0) OR 0.0 <= x < 1.0\n",
    "y = np.random.random(size=number) * 100\n",
    "\n",
    "radii = np.random.random(size=number) * 1.5\n",
    "\n",
    "# The following string formatting produces a hex number:\n",
    "# %02x yields a zero padded hex number when you provide an integer\n",
    "#     \"#%02x\" % (int(10)) would yield #0a\n",
    "#     \"#%02x%02x%02x\" % (int(10), int(11), 150) would yield #0a0b96\n",
    "\n",
    "colors = [\"#%02x%02x%02x\" % (int(r), int(g), 150) for r, g in zip(50+2*x, 30+2*y)]"
   ]
  },
  {
   "cell_type": "code",
   "execution_count": null,
   "metadata": {},
   "outputs": [],
   "source": [
    "# GENERATE FIGURE -----------------------------------------\n",
    "\n",
    "TOOLS=\"crosshair,hover,pan,wheel_zoom,zoom_in,zoom_out,box_zoom,undo,redo,reset,tap,save,box_select\"\n",
    "\n",
    "p = figure(tools=TOOLS)\n",
    "\n",
    "# GENERATE GLYPHS -----------------------------------------\n",
    "\n",
    "p.scatter(x, y, radius=radii,\n",
    "          fill_color=colors, fill_alpha=0.6,\n",
    "          line_color=None)\n",
    "\n",
    "\n",
    "# CREATE OUTPUTS ------------------------------------------\n",
    "\n",
    "output_notebook()\n",
    "show(p)  # open a browser\n",
    "\n",
    "# http://bokeh.pydata.org/en/latest/docs/gallery/color_scatter.html"
   ]
  },
  {
   "cell_type": "markdown",
   "metadata": {},
   "source": [
    "# Experience Points\n",
    "---"
   ]
  },
  {
   "cell_type": "markdown",
   "metadata": {},
   "source": [
    "Edit the code cell above to experiment with tool settings:\n",
    "\n",
    "1. Add an **additional** `pan` tool to the TOOLS string and execute the code\n",
    "   * Consider the warning you get\n",
    "   * Look at the toolbar, anyway\n",
    "   * Remove the extra `pan` tool\n",
    "1. Add the tool: `poly_select` to the TOOLS string and execute the code\n",
    "1. Add the tool: `lasso_select` to the TOOLS string and execute the code"
   ]
  },
  {
   "cell_type": "markdown",
   "metadata": {},
   "source": [
    "# Geographical map\n",
    "---"
   ]
  },
  {
   "cell_type": "code",
   "execution_count": null,
   "metadata": {},
   "outputs": [],
   "source": [
    "# For larger datasets, we will need to download the data \n",
    "\n",
    "# The data will be stored in the following location:\n",
    "# $home_directory/.bokeh/data\n",
    "\n",
    "import bokeh\n",
    "bokeh.sampledata.download()"
   ]
  },
  {
   "cell_type": "code",
   "execution_count": null,
   "metadata": {
    "collapsed": true
   },
   "outputs": [],
   "source": [
    "# IMPORTS -------------------------------------------------\n",
    "\n",
    "from bokeh.io import show\n",
    "from bokeh.models import (\n",
    "    ColumnDataSource,\n",
    "    HoverTool,\n",
    "    LogColorMapper\n",
    ")\n",
    "\n",
    "from bokeh.palettes import Viridis6 as palette\n",
    "from bokeh.plotting import figure, output_notebook\n",
    "\n",
    "\n",
    "from bokeh.sampledata.us_counties import data as counties\n",
    "from bokeh.sampledata.unemployment import data as unemployment\n"
   ]
  },
  {
   "cell_type": "code",
   "execution_count": null,
   "metadata": {
    "collapsed": true
   },
   "outputs": [],
   "source": [
    "# GENERATE FIGURE -----------------------------------------\n",
    "\n",
    "TOOLS = \"pan,wheel_zoom,box_zoom,reset,hover,save\"\n",
    "\n",
    "texas = figure(title=\"Texas Unemployment, 2009\", \n",
    "               tools=TOOLS, \n",
    "               x_axis_location=None,\n",
    "               y_axis_location=None)\n",
    "\n",
    "texas.grid.grid_line_color = None\n"
   ]
  },
  {
   "cell_type": "code",
   "execution_count": null,
   "metadata": {},
   "outputs": [],
   "source": [
    "# Let's understand the data:\n",
    "# Looking at just the first 20 keys from the counties data, we see that they are \n",
    "# tuples with the first number equal to 48\n",
    "# the second number is an odd number\n",
    "\n",
    "print(sorted(counties.keys())[:20])       \n",
    "print()\n",
    "\n",
    "# Looking at just one set of data for the county \n",
    "# coded with tuple 48, 3, we see that the data is a state, some lats and longs and some names.\n",
    "\n",
    "print(counties[(48,3)])"
   ]
  },
  {
   "cell_type": "code",
   "execution_count": null,
   "metadata": {},
   "outputs": [],
   "source": [
    "# Looking at the data for unemployment:\n",
    "# Each key is a tuple, some of which match the tuples for the counties\n",
    "# Each tuple is paired with an unemployment value.\n",
    "\n",
    "for key, value in sorted(unemployment.items()):\n",
    "    if key[0] == 48:\n",
    "        print('{}: {}'.format(key, value))\n"
   ]
  },
  {
   "cell_type": "code",
   "execution_count": null,
   "metadata": {
    "collapsed": true
   },
   "outputs": [],
   "source": [
    "# CREATE OR LOAD DATA/ENRICHMENTS -------------------------\n",
    "\n",
    "palette.reverse()\n",
    "\n",
    "counties = {\n",
    "    code: county for code, county in counties.items() if county[\"state\"] == \"tx\"\n",
    "}\n",
    "\n",
    "county_xs = [county[\"lons\"] for county in counties.values()]\n",
    "county_ys = [county[\"lats\"] for county in counties.values()]\n",
    "\n",
    "county_names = [county['name'] for county in counties.values()]\n",
    "county_rates = [unemployment[county_id] for county_id in counties]\n",
    "\n",
    "\n",
    "# LogColorMapper will map numbers in a range [low, high] against a\n",
    "# sequence of colors (i.e. a palette) on a natural logarithm scale.\n",
    "\n",
    "color_mapper = LogColorMapper(palette=palette)\n",
    "\n",
    "# ColumnDataSource() maps the names of columns to sequences or arrays,\n",
    "# often using a dictionary OR DataFrame. Here we map all the values \n",
    "# of county_xs to a variable called x, etc.\n",
    "\n",
    "source = ColumnDataSource(data=dict(\n",
    "    x=county_xs,\n",
    "    y=county_ys,\n",
    "    name=county_names,\n",
    "    rate=county_rates,\n",
    "))\n"
   ]
  },
  {
   "cell_type": "code",
   "execution_count": null,
   "metadata": {},
   "outputs": [],
   "source": [
    "# GENERATE GLYPHS -----------------------------------------\n",
    "\n",
    "# Here, we are referring to the 'x' and 'y' data found in the \n",
    "# ColumnDataSource we just created.\n",
    "# Note that we use the string 'x' NOT x\n",
    "\n",
    "texas.patches('x', 'y', source=source,\n",
    "              fill_color={'field': 'rate', 'transform': color_mapper},\n",
    "              fill_alpha=0.7, line_color=\"white\", line_width=0.5)\n"
   ]
  },
  {
   "cell_type": "code",
   "execution_count": null,
   "metadata": {
    "collapsed": true
   },
   "outputs": [],
   "source": [
    "# ADD ATTRIBUTES, ANNOTATIONS, INTERACTIONS ---------------\n",
    "\n",
    "hover = texas.select_one(HoverTool)\n",
    "\n",
    "hover.point_policy = \"follow_mouse\"\n",
    "\n",
    "hover.tooltips = [(\"Name\", \"@name\"),\n",
    "                  (\"Unemployment rate)\", \"@rate%\"),\n",
    "                  (\"(Long, Lat)\", \"($x, $y)\"),]\n"
   ]
  },
  {
   "cell_type": "code",
   "execution_count": null,
   "metadata": {},
   "outputs": [],
   "source": [
    "# CREATE OUTPUTS ------------------------------------------\n",
    "\n",
    "output_notebook()\n",
    "show(texas)\n",
    "\n",
    "# http://bokeh.pydata.org/en/latest/docs/gallery/texas.html"
   ]
  },
  {
   "cell_type": "markdown",
   "metadata": {},
   "source": [
    "# Experience Points\n",
    "---"
   ]
  },
  {
   "cell_type": "markdown",
   "metadata": {},
   "source": [
    "1. On the Internets, research the syntax for generating tool tips.\n"
   ]
  },
  {
   "cell_type": "markdown",
   "metadata": {},
   "source": [
    "## Navigation\n",
    "---\n",
    "\n",
    "| Previous | Up | Next |\n",
    "|:-----|:-----:|-----:|\n",
    "| <<< [First Graph](./first_graph.ipynb) | [Table of Contents](./README.md) | [What Went Wrong](./what_went_wrong.ipynb) >>> |"
   ]
  }
 ],
 "metadata": {
  "anaconda-cloud": {},
  "celltoolbar": "Slideshow",
  "kernelspec": {
   "display_name": "Python 3",
   "language": "python",
   "name": "python3"
  },
  "language_info": {
   "codemirror_mode": {
    "name": "ipython",
    "version": 3
   },
   "file_extension": ".py",
   "mimetype": "text/x-python",
   "name": "python",
   "nbconvert_exporter": "python",
   "pygments_lexer": "ipython3",
   "version": "3.5.2"
  }
 },
 "nbformat": 4,
 "nbformat_minor": 2
}
